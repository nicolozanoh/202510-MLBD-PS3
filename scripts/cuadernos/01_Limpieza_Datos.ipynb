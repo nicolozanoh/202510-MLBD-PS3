{
 "cells": [
  {
   "cell_type": "markdown",
   "id": "762d1dea",
   "metadata": {},
   "source": [
    "# **Limpieza y Organización de Datos PS3**\n",
    "<br>\n",
    "Nicolas Lozano, Jhan Pulido, Gerardo Rendon, Samuel Narvaez\n",
    "<br>\n",
    "2025-05-06"
   ]
  },
  {
   "cell_type": "markdown",
   "id": "7e32d02b",
   "metadata": {},
   "source": [
    "## Limpiamos ambiente y cargamos paquetes"
   ]
  },
  {
   "cell_type": "code",
   "execution_count": null,
   "id": "cc8eaf1d",
   "metadata": {
    "vscode": {
     "languageId": "r"
    }
   },
   "outputs": [
    {
     "data": {
      "text/html": [
       "'c:/Users/NicolasLozano/OneDrive - Universidad de los andes/UNIVERSIDAD/9. NOVENO SEMESTRE/BIG DATA/ProblemSets/202510-MLBD-PS3'"
      ],
      "text/latex": [
       "'c:/Users/NicolasLozano/OneDrive - Universidad de los andes/UNIVERSIDAD/9. NOVENO SEMESTRE/BIG DATA/ProblemSets/202510-MLBD-PS3'"
      ],
      "text/markdown": [
       "'c:/Users/NicolasLozano/OneDrive - Universidad de los andes/UNIVERSIDAD/9. NOVENO SEMESTRE/BIG DATA/ProblemSets/202510-MLBD-PS3'"
      ],
      "text/plain": [
       "[1] \"c:/Users/NicolasLozano/OneDrive - Universidad de los andes/UNIVERSIDAD/9. NOVENO SEMESTRE/BIG DATA/ProblemSets/202510-MLBD-PS3\""
      ]
     },
     "metadata": {},
     "output_type": "display_data"
    }
   ],
   "source": [
    "rm(list = ls())\n",
    "\n",
    "require(pacman)\n",
    "\n",
    "p_load(\n",
    "  \"ggplot2\",\n",
    "  \"tidyverse\",\n",
    "  \"dplyr\",\n",
    "  \"visdat\"\n",
    ")\n",
    "\n",
    "# Set working directory to the project root\n",
    "while (tail(strsplit(getwd(), \"/\")[[1]], 1) != \"202510-MLBD-PS3\") {\n",
    "  setwd(\"..\")\n",
    "}\n",
    "\n",
    "getwd()\n",
    "\n",
    "options(\n",
    "  repr.plot.width  = 10,   # inches  (default is 7)\n",
    "  repr.plot.height = 6,    # inches  (default is 5)\n",
    "  repr.plot.res    = 120   # DPI; larger → sharper but heavier files\n",
    ")"
   ]
  },
  {
   "cell_type": "markdown",
   "id": "278c2e2f",
   "metadata": {},
   "source": [
    "## Cargue de datos"
   ]
  },
  {
   "cell_type": "code",
   "execution_count": 83,
   "id": "2c64328e",
   "metadata": {
    "vscode": {
     "languageId": "r"
    }
   },
   "outputs": [],
   "source": [
    "test <- read.csv(\n",
    "  \"stores\\\\test.csv\"\n",
    ")\n",
    "\n",
    "train <- read.csv(\n",
    "  \"stores\\\\train.csv\"\n",
    ")"
   ]
  },
  {
   "cell_type": "markdown",
   "id": "47c4e984",
   "metadata": {},
   "source": [
    "## Organizamos los datos"
   ]
  },
  {
   "cell_type": "markdown",
   "id": "d9327831",
   "metadata": {},
   "source": [
    "### Corregimos los tipos de variables"
   ]
  },
  {
   "cell_type": "code",
   "execution_count": 84,
   "id": "cfe48afe",
   "metadata": {
    "vscode": {
     "languageId": "r"
    }
   },
   "outputs": [],
   "source": [
    "train <- train %>%\n",
    "  mutate(\n",
    "    year = as.factor(year),\n",
    "    month = as.factor(month),\n",
    "    property_type = as.factor(property_type),\n",
    "    rooms = as.factor(rooms),\n",
    "    bathrooms = as.factor(bathrooms),\n",
    "    bedrooms = as.factor(bedrooms)\n",
    ")\n",
    "\n",
    "test <- test %>%\n",
    "  mutate(\n",
    "    year = as.factor(year),\n",
    "    month = as.factor(month),\n",
    "    property_type = as.factor(property_type),\n",
    "    rooms = as.factor(rooms),\n",
    "    bathrooms = as.factor(bathrooms),\n",
    "    bedrooms = as.factor(bedrooms)\n",
    ")"
   ]
  },
  {
   "cell_type": "markdown",
   "id": "c1a3efeb",
   "metadata": {},
   "source": [
    "### Analizamos Missing Values"
   ]
  },
  {
   "cell_type": "code",
   "execution_count": 85,
   "id": "20e06da5",
   "metadata": {
    "vscode": {
     "languageId": "r"
    }
   },
   "outputs": [
    {
     "data": {
      "image/png": "[encoded data removed]",
      "text/plain": [
       "plot without title"
      ]
     },
     "metadata": {
      "image/png": {
       "height": 420,
       "width": 420
      }
     },
     "output_type": "display_data"
    },
    {
     "data": {
      "image/png": "[encoded data removed]",
      "text/plain": [
       "plot without title"
      ]
     },
     "metadata": {
      "image/png": {
       "height": 420,
       "width": 420
      }
     },
     "output_type": "display_data"
    }
   ],
   "source": [
    "train  <- train %>%\n",
    "            mutate(\n",
    "              title = ifelse(is.na(title), \"\", title),\n",
    "              description = ifelse(is.na(description), \"\", description)\n",
    "            )\n",
    "\n",
    "test  <- test %>%\n",
    "            mutate(\n",
    "              title = ifelse(is.na(title), \"\", title),\n",
    "              description = ifelse(is.na(description), \"\", description)\n",
    "            )\n",
    "\n",
    "miss_train  <- vis_miss(train) +\n",
    "            ggtitle(\"Missing Values in Train Data\")\n",
    "\n",
    "miss_test  <- vis_miss(test) +\n",
    "            ggtitle(\"Missing Values in Test Data\")\n",
    "\n",
    "miss_train\n",
    "miss_test"
   ]
  },
  {
   "cell_type": "markdown",
   "id": "059b1c6b",
   "metadata": {},
   "source": [
    "Hay un gran numero de missing values en la variables `surface_total`, `surface_covered`, `rooms` y `bathrooms`"
   ]
  },
  {
   "cell_type": "markdown",
   "id": "c1263303",
   "metadata": {},
   "source": [
    "### Imputamos valores para variables con gran número de missing values"
   ]
  },
  {
   "cell_type": "markdown",
   "id": "1096e496",
   "metadata": {},
   "source": [
    "Para habitaciones y baños usamos la moda al ser variables discretas"
   ]
  },
  {
   "cell_type": "code",
   "execution_count": 86,
   "id": "b43af040",
   "metadata": {
    "vscode": {
     "languageId": "r"
    }
   },
   "outputs": [],
   "source": [
    "train  <- train %>% \n",
    "    mutate(\n",
    "        rooms = ifelse(is.na(rooms) == T, as.numeric(names(sort(table(rooms))[1])), rooms),\n",
    "        bathrooms = ifelse(is.na(bathrooms) == T, as.numeric(names(sort(table(bathrooms))[1])), bathrooms),\n",
    "    )\n",
    "\n",
    "test  <- test %>% \n",
    "    mutate(\n",
    "        rooms = ifelse(is.na(rooms) == T, as.numeric(names(sort(table(rooms))[1])), rooms),\n",
    "        bathrooms = ifelse(is.na(bathrooms) == T, as.numeric(names(sort(table(bathrooms))[1])), bathrooms),\n",
    "    )"
   ]
  },
  {
   "cell_type": "code",
   "execution_count": 87,
   "id": "d5552146",
   "metadata": {
    "vscode": {
     "languageId": "r"
    }
   },
   "outputs": [],
   "source": [
    "train <- train %>%\n",
    "  mutate(\n",
    "    rooms = as.integer(as.character(rooms)),\n",
    "    bathrooms = as.integer(as.character(bathrooms)),\n",
    "    bedrooms = as.integer(as.character(bedrooms))\n",
    ")\n",
    "\n",
    "test <- test %>%\n",
    "  mutate(\n",
    "    rooms = as.integer(as.character(rooms)),\n",
    "    bathrooms = as.integer(as.character(bathrooms)),\n",
    "    bedrooms = as.integer(as.character(bedrooms))\n",
    ")"
   ]
  },
  {
   "cell_type": "markdown",
   "id": "466ff9de",
   "metadata": {},
   "source": [
    "Al imputar utilizando la moda, especialmente para el caso de la variable `rooms` donde el procentaje de valores faltantes esta entre 45% y 47%, se podría estar sesgando la distribución. Se sugiere a futuro escoger otros métodos de imputación que no introduzcan este problema."
   ]
  },
  {
   "cell_type": "markdown",
   "id": "396b2660",
   "metadata": {},
   "source": [
    "Para las variables de superficies al ser variables continuas imputamos utilizando la mediana y un método de regresión."
   ]
  },
  {
   "cell_type": "code",
   "execution_count": 88,
   "id": "4b53467f",
   "metadata": {
    "vscode": {
     "languageId": "r"
    }
   },
   "outputs": [],
   "source": [
    "train  <- train  %>% \n",
    "            mutate(\n",
    "                surface_covered_reg = surface_covered,\n",
    "                surface_total_reg = surface_total,\n",
    "            )\n",
    "\n",
    "test  <- test  %>% \n",
    "            mutate(\n",
    "                surface_covered_reg = surface_covered,\n",
    "                surface_total_reg = surface_total,\n",
    "            )"
   ]
  },
  {
   "cell_type": "markdown",
   "id": "215ba840",
   "metadata": {},
   "source": [
    "Imputación con la mediana"
   ]
  },
  {
   "cell_type": "code",
   "execution_count": 89,
   "id": "c77bbc76",
   "metadata": {
    "vscode": {
     "languageId": "r"
    }
   },
   "outputs": [],
   "source": [
    "train  <- train  %>% \n",
    "            mutate(\n",
    "                surface_covered = ifelse(is.na(surface_covered) == T, median(surface_covered, na.rm = T), surface_covered),\n",
    "                surface_total = ifelse(is.na(surface_total) == T, median(surface_total, na.rm = T), surface_total),\n",
    "            )\n",
    "\n",
    "test  <- test  %>% \n",
    "            mutate(\n",
    "                surface_covered = ifelse(is.na(surface_covered) == T, median(surface_covered, na.rm = T), surface_covered),\n",
    "                surface_total = ifelse(is.na(surface_total) == T, median(surface_total, na.rm = T), surface_total),\n",
    "            )"
   ]
  },
  {
   "cell_type": "markdown",
   "id": "8f1850d6",
   "metadata": {},
   "source": [
    "Imputación con regresión"
   ]
  },
  {
   "cell_type": "code",
   "execution_count": 90,
   "id": "c35f6c95",
   "metadata": {
    "vscode": {
     "languageId": "r"
    }
   },
   "outputs": [
    {
     "name": "stderr",
     "output_type": "stream",
     "text": [
      "Warning message in predict.lm(linear_imput_model_covered, newdata = test):\n",
      "\"prediction from rank-deficient fit; attr(*, \"non-estim\") has doubtful cases\"\n"
     ]
    }
   ],
   "source": [
    "linear_imput_model_covered  <- lm(\n",
    "    surface_covered_reg ~ \n",
    "        property_type + rooms + bathrooms + bedrooms,\n",
    "    data = train, na.action = na.exclude\n",
    ")   \n",
    "\n",
    "linear_imput_model_total  <- lm(\n",
    "    surface_total_reg ~ \n",
    "        property_type + rooms + bathrooms + bedrooms,\n",
    "    data = train, na.action = na.exclude\n",
    ")\n",
    "\n",
    "train$pred_total  <- predict(\n",
    "    linear_imput_model_total,\n",
    "    newdata = train\n",
    ")\n",
    "\n",
    "train$pred_covered  <- predict(\n",
    "    linear_imput_model_covered,\n",
    "    newdata = train\n",
    ")\n",
    "\n",
    "linear_imput_model_covered  <- lm(\n",
    "    surface_covered_reg ~ \n",
    "        property_type + rooms + bathrooms + bedrooms,\n",
    "    data = test, na.action = na.exclude\n",
    ")   \n",
    "\n",
    "linear_imput_model_total  <- lm(\n",
    "    surface_total_reg ~ \n",
    "        property_type + rooms + bathrooms + bedrooms,\n",
    "    data = test, na.action = na.exclude\n",
    ")\n",
    "\n",
    "test$pred_covered  <- predict(\n",
    "    linear_imput_model_covered,\n",
    "    newdata = test\n",
    ")\n",
    "\n",
    "test$pred_total  <- predict(\n",
    "    linear_imput_model_total,\n",
    "    newdata = test\n",
    ")\n",
    "\n",
    "train  <- train  %>% \n",
    "            mutate(\n",
    "                surface_covered_reg = ifelse(is.na(surface_covered_reg) == T, pred_covered, surface_covered_reg),\n",
    "                surface_total_reg = ifelse(is.na(surface_total_reg) == T, pred_total, surface_total_reg)\n",
    "            )\n",
    "\n",
    "test  <- test  %>% \n",
    "            mutate(\n",
    "                surface_covered_reg = ifelse(is.na(surface_covered_reg) == T, pred_covered, surface_covered_reg),\n",
    "                surface_total_reg = ifelse(is.na(surface_total_reg) == T, pred_total, surface_total_reg)\n",
    "            )\n"
   ]
  },
  {
   "cell_type": "markdown",
   "id": "bb7689a7",
   "metadata": {},
   "source": [
    "Dejar las variables `rooms`, `bathrooms` y `bedrooms` como factores arroja error, debido al gran número de missing values en las variables dependientes. Por esto se dejan como enteros. Ahora miramos las distribuciones para las variables imputadas."
   ]
  },
  {
   "cell_type": "code",
   "execution_count": null,
   "id": "6d2d8118",
   "metadata": {
    "vscode": {
     "languageId": "r"
    }
   },
   "outputs": [
    {
     "data": {
      "image/png": "[encoded data removed]",
      "text/plain": [
       "plot without title"
      ]
     },
     "metadata": {
      "image/png": {
       "height": 420,
       "width": 420
      }
     },
     "output_type": "display_data"
    }
   ],
   "source": [
    "ggplot() +\n",
    "    geom_density(\n",
    "        data = train,\n",
    "        aes(\n",
    "            x = surface_covered_reg,\n",
    "            colour = \"regression\",\n",
    "            fill = \"regression\"\n",
    "        ),\n",
    "        alpha = 0.5\n",
    "    ) +\n",
    "    geom_density(\n",
    "        data = train,\n",
    "        aes(\n",
    "            x = surface_covered,\n",
    "            colour = \"median\",\n",
    "            fill = \"median\"\n",
    "        ),\n",
    "        alpha = 0.5\n",
    "    ) +\n",
    "    scale_colour_manual(\n",
    "        name   = \"Variable\",                     # legend title\n",
    "        values = c(regression = \"steelblue\",\n",
    "                median = \"firebrick\")\n",
    "    ) +\n",
    "    labs(\n",
    "        title = \"Densidad surface_covered Para diferentes imputaciones, train\",\n",
    "        x = \"Surface Covered\",\n",
    "        y = \"Density\"\n",
    "    ) +\n",
    "    theme_minimal() "
   ]
  },
  {
   "cell_type": "code",
   "execution_count": 96,
   "id": "d2a85218",
   "metadata": {
    "vscode": {
     "languageId": "r"
    }
   },
   "outputs": [
    {
     "data": {
      "image/png": "[encoded data removed]",
      "text/plain": [
       "plot without title"
      ]
     },
     "metadata": {
      "image/png": {
       "height": 420,
       "width": 420
      }
     },
     "output_type": "display_data"
    }
   ],
   "source": [
    "ggplot() +\n",
    "    geom_density(\n",
    "        data = test,\n",
    "        aes(\n",
    "            x = surface_covered_reg,\n",
    "            colour = \"regression\",\n",
    "            fill = \"regression\"\n",
    "        ),\n",
    "        alpha = 0.5\n",
    "    ) +\n",
    "    geom_density(\n",
    "        data = test,\n",
    "        aes(\n",
    "            x = surface_covered,\n",
    "            colour = \"median\",\n",
    "            fill = \"median\"\n",
    "        ),\n",
    "        alpha = 0.5\n",
    "    ) +\n",
    "    scale_colour_manual(\n",
    "        name   = \"Variable\",\n",
    "        values = c(regression = \"steelblue\",\n",
    "                median = \"firebrick\")\n",
    "    ) +\n",
    "    labs(\n",
    "        title = \"Densidad surface_covered Para diferentes imputaciones, test\",\n",
    "        x = \"Surface Covered\",\n",
    "        y = \"Density\"\n",
    "    ) +\n",
    "    theme_minimal() "
   ]
  },
  {
   "cell_type": "code",
   "execution_count": 97,
   "id": "81186f09",
   "metadata": {
    "vscode": {
     "languageId": "r"
    }
   },
   "outputs": [
    {
     "data": {
      "image/png": "[encoded data removed]",
      "text/plain": [
       "plot without title"
      ]
     },
     "metadata": {
      "image/png": {
       "height": 420,
       "width": 420
      }
     },
     "output_type": "display_data"
    }
   ],
   "source": [
    "ggplot() +\n",
    "    geom_density(\n",
    "        data = train,\n",
    "        aes(\n",
    "            x = surface_total_reg,\n",
    "            colour = \"regression\",\n",
    "            fill = \"regression\"\n",
    "        ),\n",
    "        alpha = 0.5\n",
    "    ) +\n",
    "    geom_density(\n",
    "        data = train,\n",
    "        aes(\n",
    "            x = surface_total,\n",
    "            colour = \"median\",\n",
    "            fill = \"median\"\n",
    "        ),\n",
    "        alpha = 0.5\n",
    "    ) +\n",
    "    scale_colour_manual(\n",
    "        name   = \"Variable\",\n",
    "        values = c(regression = \"steelblue\",\n",
    "                median = \"firebrick\")\n",
    "    ) +\n",
    "    labs(\n",
    "        title = \"Densidad surface_total Para diferentes imputaciones, train\",\n",
    "        x = \"Surface Covered\",\n",
    "        y = \"Density\"\n",
    "    ) +\n",
    "    theme_minimal() "
   ]
  },
  {
   "cell_type": "code",
   "execution_count": 98,
   "id": "1b024df8",
   "metadata": {
    "vscode": {
     "languageId": "r"
    }
   },
   "outputs": [
    {
     "data": {
      "image/png": "[encoded data removed]",
      "text/plain": [
       "plot without title"
      ]
     },
     "metadata": {
      "image/png": {
       "height": 420,
       "width": 420
      }
     },
     "output_type": "display_data"
    }
   ],
   "source": [
    "ggplot() +\n",
    "    geom_density(\n",
    "        data = test,\n",
    "        aes(\n",
    "            x = surface_total_reg,\n",
    "            colour = \"regression\",\n",
    "            fill = \"regression\"\n",
    "        ),\n",
    "        alpha = 0.5\n",
    "    ) +\n",
    "    geom_density(\n",
    "        data = test,\n",
    "        aes(\n",
    "            x = surface_total,\n",
    "            colour = \"median\",\n",
    "            fill = \"median\"\n",
    "        ),\n",
    "        alpha = 0.5\n",
    "    ) +\n",
    "    scale_colour_manual(\n",
    "        name   = \"Variable\",\n",
    "        values = c(regression = \"steelblue\",\n",
    "                median = \"firebrick\")\n",
    "    ) +\n",
    "    labs(\n",
    "        title = \"Densidad surface_total Para diferentes imputaciones, test\",\n",
    "        x = \"Surface Covered\",\n",
    "        y = \"Density\"\n",
    "    ) +\n",
    "    theme_minimal() "
   ]
  }
 ],
 "metadata": {
  "kernelspec": {
   "display_name": "R",
   "language": "R",
   "name": "ir"
  },
  "language_info": {
   "codemirror_mode": "r",
   "file_extension": ".r",
   "mimetype": "text/x-r-source",
   "name": "R",
   "pygments_lexer": "r",
   "version": "4.4.2"
  }
 },
 "nbformat": 4,
 "nbformat_minor": 5
}
