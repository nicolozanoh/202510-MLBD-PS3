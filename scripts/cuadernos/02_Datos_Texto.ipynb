{
 "cells": [
  {
   "cell_type": "markdown",
   "id": "101cc10c",
   "metadata": {},
   "source": [
    "# **Script para crear variables de texto**\n",
    "<br>\n",
    "Nicolas Lozano, Jhan Pulido, Gerardo Rendon, Samuel Narvaez\n",
    "<br>\n",
    "2025-05-06"
   ]
  },
  {
   "cell_type": "markdown",
   "id": "8f264746",
   "metadata": {
    "vscode": {
     "languageId": "plaintext"
    }
   },
   "source": [
    "## Limpiamos ambiente y cargamos paquetes"
   ]
  },
  {
   "cell_type": "code",
   "execution_count": 26,
   "id": "fdbb6c34",
   "metadata": {
    "vscode": {
     "languageId": "r"
    }
   },
   "outputs": [
    {
     "data": {
      "text/html": [
       "'c:/Users/NicolasLozano/OneDrive - Universidad de los andes/UNIVERSIDAD/9. NOVENO SEMESTRE/BIG DATA/ProblemSets/202510-MLBD-PS3'"
      ],
      "text/latex": [
       "'c:/Users/NicolasLozano/OneDrive - Universidad de los andes/UNIVERSIDAD/9. NOVENO SEMESTRE/BIG DATA/ProblemSets/202510-MLBD-PS3'"
      ],
      "text/markdown": [
       "'c:/Users/NicolasLozano/OneDrive - Universidad de los andes/UNIVERSIDAD/9. NOVENO SEMESTRE/BIG DATA/ProblemSets/202510-MLBD-PS3'"
      ],
      "text/plain": [
       "[1] \"c:/Users/NicolasLozano/OneDrive - Universidad de los andes/UNIVERSIDAD/9. NOVENO SEMESTRE/BIG DATA/ProblemSets/202510-MLBD-PS3\""
      ]
     },
     "metadata": {},
     "output_type": "display_data"
    }
   ],
   "source": [
    "rm(list = ls())\n",
    "\n",
    "require(pacman)\n",
    "\n",
    "p_load(\n",
    "  \"ggplot2\",\n",
    "  \"tidyverse\",\n",
    "  \"dplyr\",\n",
    "  \"text2vec\",\n",
    "  \"FactoMineR\",\n",
    "  \"factoextra\",\n",
    "  \"tm\",\n",
    "  \"udpipe\",\n",
    "  \"pbapply\"\n",
    ")\n",
    "\n",
    "# Set working directory to the project root\n",
    "while (tail(strsplit(getwd(), \"/\")[[1]], 1) != \"202510-MLBD-PS3\") {\n",
    "  setwd(\"..\")\n",
    "}\n",
    "\n",
    "getwd()\n",
    "\n",
    "options(\n",
    "  repr.plot.width  = 10,   # inches  (default is 7)\n",
    "  repr.plot.height = 6,    # inches  (default is 5)\n",
    "  repr.plot.res    = 120   # DPI; larger → sharper but heavier files\n",
    ")"
   ]
  },
  {
   "cell_type": "markdown",
   "id": "c766d52f",
   "metadata": {},
   "source": [
    "## Cargue de datos"
   ]
  },
  {
   "cell_type": "code",
   "execution_count": 27,
   "id": "92a8c86a",
   "metadata": {
    "vscode": {
     "languageId": "r"
    }
   },
   "outputs": [],
   "source": [
    "train_reg <- readRDS(\"stores\\\\provisionales\\\\train_reg.rds\")\n",
    "train_med <- readRDS(\"stores\\\\provisionales\\\\train_median.rds\")\n",
    "\n",
    "test_reg <- readRDS(\"stores\\\\provisionales\\\\test_reg.rds\")\n",
    "test_med <- readRDS(\"stores\\\\provisionales\\\\test_median.rds\")\n",
    "\n",
    "train_reg$is_test <- 0\n",
    "train_med$is_test <- 0\n",
    "test_reg$is_test <- 1\n",
    "test_med$is_test <- 1\n",
    "\n",
    "data_reg <- bind_rows(train_reg, test_reg)\n",
    "data_med <- bind_rows(train_med, test_med)"
   ]
  },
  {
   "cell_type": "markdown",
   "id": "0930a062",
   "metadata": {},
   "source": [
    "## Stopwords"
   ]
  },
  {
   "cell_type": "code",
   "execution_count": 28,
   "id": "df08958c",
   "metadata": {
    "vscode": {
     "languageId": "r"
    }
   },
   "outputs": [],
   "source": [
    "stopwords_base <- stopwords(\"spanish\")\n",
    "\n",
    "stopwords_adicionales <- c(\n",
    "  \"vendo\", \"venta\", \"vende\", \"etc\", \"carrera\", \"calle\", \"casa\", \"apto\", \n",
    "  \"apartamento\", \"propiedad\", \"inmueble\", \"cuarto\", \"habitacion\", \n",
    "  \"excelente\", \"ubicado\", \"area\", \"espectacular\", \"magnifico\", \"muy\", \n",
    "  \"vivienda\", \"piso\", \"alcoba\", \"bano\", \"bao\", \"via\", \"mas\", \"consta\", \n",
    "  \"bogota\", \"santa\", \"mts\", \"metro\"\n",
    ")\n",
    "\n",
    "stopwords_total <- unique(c(stopwords_base, stopwords_adicionales))"
   ]
  },
  {
   "cell_type": "markdown",
   "id": "98a74b26",
   "metadata": {},
   "source": [
    "## Limpieza de texto"
   ]
  },
  {
   "cell_type": "code",
   "execution_count": 29,
   "id": "0633e737",
   "metadata": {
    "vscode": {
     "languageId": "r"
    }
   },
   "outputs": [
    {
     "name": "stderr",
     "output_type": "stream",
     "text": [
      "Downloading udpipe model from https://raw.githubusercontent.com/jwijffels/udpipe.models.ud.2.5/master/inst/udpipe-ud-2.5-191206/spanish-gsd-ud-2.5-191206.udpipe to c:/Users/NicolasLozano/OneDrive - Universidad de los andes/UNIVERSIDAD/9. NOVENO SEMESTRE/BIG DATA/ProblemSets/202510-MLBD-PS3/spanish-gsd-ud-2.5-191206.udpipe\n",
      "\n",
      " - This model has been trained on version 2.5 of data from https://universaldependencies.org\n",
      "\n",
      " - The model is distributed under the CC-BY-SA-NC license: https://creativecommons.org/licenses/by-nc-sa/4.0\n",
      "\n",
      " - Visit https://github.com/jwijffels/udpipe.models.ud.2.5 for model license details.\n",
      "\n",
      " - For a list of all models and their licenses (most models you can download with this package have either a CC-BY-SA or a CC-BY-SA-NC license) read the documentation at ?udpipe_download_model. For building your own models: visit the documentation by typing vignette('udpipe-train', package = 'udpipe')\n",
      "\n",
      "Downloading finished, model stored at 'c:/Users/NicolasLozano/OneDrive - Universidad de los andes/UNIVERSIDAD/9. NOVENO SEMESTRE/BIG DATA/ProblemSets/202510-MLBD-PS3/spanish-gsd-ud-2.5-191206.udpipe'\n",
      "\n"
     ]
    }
   ],
   "source": [
    "modelo_info <- udpipe_download_model(language = \"spanish\")\n",
    "\n",
    "modelo <- udpipe_load_model(file = modelo_info$file_model)\n",
    "\n",
    "limpiar_texto <- function(texto, stopwords_total) {\n",
    "  if (is.na(texto) || texto == \"\") return(\"\")\n",
    "  \n",
    "  texto <- tolower(texto)\n",
    "  texto <- textclean::replace_non_ascii(texto)\n",
    "  texto <- gsub(\"[[:punct:]]\", \" \", texto)\n",
    "  palabras <- unlist(strsplit(texto, \"\\\\s+\"))\n",
    "  palabras <- palabras[nchar(palabras) >= 3]\n",
    "  palabras <- palabras[!palabras %in% stopwords_total]\n",
    "  texto <- paste(palabras, collapse = \" \")\n",
    "  \n",
    "  return(texto)\n",
    "}\n",
    "\n",
    "lematizar_texto <- function(texto, modelo) {\n",
    "  if (texto == \"\") return(\"\")\n",
    "  anotado <- udpipe::udpipe_annotate(modelo, x = texto)\n",
    "  anotado <- as.data.frame(anotado)\n",
    "  lemas <- anotado$lemma[!is.na(anotado$lemma)]\n",
    "  lemas <- lemas[nchar(lemas) >= 3]\n",
    "  return(paste(lemas, collapse = \" \"))\n",
    "}\n",
    "\n",
    "procesar_texto <- function(texto, stopwords_total, modelo) {\n",
    "  texto <- limpiar_texto(texto, stopwords_total)        # Primer filtro\n",
    "  texto <- lematizar_texto(texto, modelo)               # Lematización\n",
    "  texto <- limpiar_texto(texto, stopwords_total)        # Segundo filtro\n",
    "  return(texto)\n",
    "}\n"
   ]
  },
  {
   "cell_type": "code",
   "execution_count": 30,
   "id": "e944c26b",
   "metadata": {
    "vscode": {
     "languageId": "r"
    }
   },
   "outputs": [],
   "source": [
    "data_reg$cleaned_text <- pbapply::pbsapply(data_reg$description, procesar_texto, \n",
    "                                       stopwords_total = stopwords_total, \n",
    "                                       modelo = modelo)\n",
    "\n",
    "data_med$cleaned_text <- pbapply::pbsapply(data_med$description, procesar_texto,\n",
    "                                       stopwords_total = stopwords_total, \n",
    "                                       modelo = modelo)"
   ]
  },
  {
   "cell_type": "markdown",
   "id": "bb1101f0",
   "metadata": {},
   "source": [
    "## Bags of Word"
   ]
  },
  {
   "cell_type": "code",
   "execution_count": 31,
   "id": "f01f8f34",
   "metadata": {
    "vscode": {
     "languageId": "r"
    }
   },
   "outputs": [],
   "source": [
    "crear_bow <- function(data, text_column = \"cleaned_text\", min_freq = 0.01, ngram = c(1L, 2L)) {\n",
    "  \n",
    "  # 1. Tokenizar texto\n",
    "  it <- itoken(data[[text_column]], progressbar = TRUE)\n",
    "  \n",
    "  # 2. Crear vocabulario con n-gramas\n",
    "  vocab <- create_vocabulary(it, ngram = ngram)\n",
    "  \n",
    "  # 3. Filtrar por frecuencia mínima\n",
    "  vocab <- prune_vocabulary(vocab, term_count_min = min_freq * nrow(data))\n",
    "  \n",
    "  # 4. Vectorizador\n",
    "  vectorizer <- vocab_vectorizer(vocab)\n",
    "  \n",
    "  # 5. Crear matriz documento-término\n",
    "  dtm <- create_dtm(it, vectorizer)\n",
    "  \n",
    "  # 6. Convertir a DataFrame\n",
    "  bow_df <- as.data.frame(as.matrix(dtm))\n",
    "  colnames(bow_df) <- paste0(\"d_\", colnames(bow_df))  # Prefijo\n",
    "  \n",
    "  # 7. Combinar con datos originales\n",
    "  data_final <- cbind(data, bow_df)\n",
    "  \n",
    "  return(data_final)\n",
    "}"
   ]
  },
  {
   "cell_type": "code",
   "execution_count": 32,
   "id": "65c4ce69",
   "metadata": {
    "vscode": {
     "languageId": "r"
    }
   },
   "outputs": [
    {
     "name": "stdout",
     "output_type": "stream",
     "text": [
      "Variables BoW en data_reg_large:  827 \n",
      "Variables BoW en data_reg_med:    163 \n",
      "Variables BoW en data_reg_light:  79 \n",
      "Variables BoW en data_med_large:  824 \n",
      "Variables BoW en data_med_med:    165 \n",
      "Variables BoW en data_med_light:  79 \n"
     ]
    }
   ],
   "source": [
    "data_reg_large <- crear_bow(data_reg, min_freq = 0.01, ngram = c(1L, 2L))\n",
    "data_reg_med   <- crear_bow(data_reg, min_freq = 0.05, ngram = c(1L, 2L))\n",
    "data_reg_light <- crear_bow(data_reg, min_freq = 0.10, ngram = c(1L, 2L))\n",
    "\n",
    "cat(\"Variables BoW en data_reg_large: \", ncol(data_reg_large) - ncol(data_reg), \"\\n\")\n",
    "cat(\"Variables BoW en data_reg_med:   \", ncol(data_reg_med) - ncol(data_reg), \"\\n\")\n",
    "cat(\"Variables BoW en data_reg_light: \", ncol(data_reg_light) - ncol(data_reg), \"\\n\")\n",
    "\n",
    "data_med_large <- crear_bow(data_med, min_freq = 0.01, ngram = c(1L, 2L))\n",
    "data_med_med   <- crear_bow(data_med, min_freq = 0.05, ngram = c(1L, 2L))\n",
    "data_med_light <- crear_bow(data_med, min_freq = 0.10, ngram = c(1L, 2L))\n",
    "\n",
    "cat(\"Variables BoW en data_med_large: \", ncol(data_med_large) - ncol(data_med), \"\\n\")\n",
    "cat(\"Variables BoW en data_med_med:   \", ncol(data_med_med) - ncol(data_med), \"\\n\")\n",
    "cat(\"Variables BoW en data_med_light: \", ncol(data_med_light) - ncol(data_med), \"\\n\")"
   ]
  },
  {
   "cell_type": "code",
   "execution_count": 33,
   "id": "658fded7",
   "metadata": {
    "vscode": {
     "languageId": "r"
    }
   },
   "outputs": [
    {
     "data": {
      "text/html": [
       "<table class=\"dataframe\">\n",
       "<caption>A data.frame: 6 × 23</caption>\n",
       "<thead>\n",
       "\t<tr><th></th><th scope=col>property_id</th><th scope=col>city</th><th scope=col>price</th><th scope=col>month</th><th scope=col>year</th><th scope=col>surface_total</th><th scope=col>surface_covered</th><th scope=col>rooms</th><th scope=col>bedrooms</th><th scope=col>bathrooms</th><th scope=col>⋯</th><th scope=col>lon</th><th scope=col>title</th><th scope=col>description</th><th scope=col>precio_por_mt2</th><th scope=col>bathroom_per_bedroom</th><th scope=col>bathroom_per_room</th><th scope=col>ratio_covered</th><th scope=col>bedroom_per_room</th><th scope=col>is_test</th><th scope=col>cleaned_text</th></tr>\n",
       "\t<tr><th></th><th scope=col>&lt;chr&gt;</th><th scope=col>&lt;chr&gt;</th><th scope=col>&lt;dbl&gt;</th><th scope=col>&lt;fct&gt;</th><th scope=col>&lt;fct&gt;</th><th scope=col>&lt;dbl&gt;</th><th scope=col>&lt;dbl&gt;</th><th scope=col>&lt;int&gt;</th><th scope=col>&lt;int&gt;</th><th scope=col>&lt;int&gt;</th><th scope=col>⋯</th><th scope=col>&lt;dbl&gt;</th><th scope=col>&lt;chr&gt;</th><th scope=col>&lt;chr&gt;</th><th scope=col>&lt;dbl&gt;</th><th scope=col>&lt;dbl&gt;</th><th scope=col>&lt;dbl&gt;</th><th scope=col>&lt;dbl&gt;</th><th scope=col>&lt;dbl&gt;</th><th scope=col>&lt;dbl&gt;</th><th scope=col>&lt;chr&gt;</th></tr>\n",
       "</thead>\n",
       "<tbody>\n",
       "\t<tr><th scope=row>1</th><td>4fa04a187235d7509a43a8cf</td><td>Bogotá D.C</td><td>5.8e+08</td><td>10</td><td>2020</td><td>180.6663</td><td>206.7014</td><td> 3</td><td>3</td><td>13</td><td>⋯</td><td>-74.09965</td><td>de casa en los cerezos                          </td><td>cod 2901fr461 de casa multifamiliar 4 pisos garaje y local ubicado sector de los cerezos localidad de engativa agradable vista exterior cuenta con dos terrazas para compartir y disfrutar a una adecuada altura para apreciar la ciudad tiene muy buenos acabados la casa cuenta con 3 apartaestudios cada uno cuenta con su cocina totalmente amoblada y un bano la casa cuenta en total con 5 banos un banos en cada apartaestudio uno en garaje y otro en el local sala comedor con buenos espacios ademas de eso cuenta con 2 terrazas para disfrutar un bbq 3 apartaestudios totalmente independientes local totalmente independiente ubicacion con acceso cerca a la calle 80 a pocas cuadras de av cali o av cra 86 centros comerciales portal 80 y titan restaurantes parques cercanos colegios y universidades                                                                                                                                                                                                                                                                                                                                                                                                                                                                                               </td><td>3.210338</td><td>4.333333</td><td>4.3333333</td><td>1.144106</td><td>1.0000000</td><td>0</td><td>cod 2901fr461 multifamiliar garaje local sector cerezo localidad engativo agradable vista exterior contar dos terraza compartir disfrutar adecuado altura apreciar ciudad buen acabado contar apartaestudio cada contar cocina totalmente amoblado contar total cada apartaestudio garaje local sala comedor buen espacio adema contar terraza disfrutar bbq apartaestudio totalmente independiente local totalmente independiente ubicacion acceso cerca cuadra cali centro comercial portal titar restaurante parque cercano colegio universidad                                                                                                                                                                                                                                                                                                </td></tr>\n",
       "\t<tr><th scope=row>2</th><td>f9cfbb306af543a759c1f3f2</td><td>Bogotá D.C</td><td>6.0e+08</td><td>10</td><td>2020</td><td>304.3739</td><td>329.0327</td><td> 9</td><td>9</td><td>13</td><td>⋯</td><td>-74.13164</td><td>casa en floralia bogota                         </td><td>casa en o en el barrio floralia en la ciudad de bogota consta de pisos construidos 2 area construida 260 mts terraza 140 mts X s casa completa X piso X piso X piso 1 sala comedor cocina 4 dormitorios 3 banos patio de ropas cubierto 3 garajes cubiertos piso 2 sala comedor cocina tipo americano 5 dormitorios 2 banos 4 closets terraza zona de ropas deposito su ubicacion estrategica permite contar con transporte publico cercano colegios tiendas multiproposito y mucho mas                                                                                                                                                                                                                                                                                                                                                                                                                                                                                                                                                                                                                                                                                                                                                                                                                                </td><td>1.971259</td><td>1.444444</td><td>1.4444444</td><td>1.081015</td><td>1.0000000</td><td>0</td><td>barrio floralia ciudad construido construido 260 terraza 140 completo sala comedor cocinar dormitorio patio ropa cubierto garaje cubierto sala comedor cocinar tipo americano dormitorio closet terrazar zona ropas depositar ubicacion estrategico permitir contar transporte publico cercano colegio tienda multipropositar                                                                                                                                                                                                                                                                                                                                                                                                                                                                                                                     </td></tr>\n",
       "\t<tr><th scope=row>3</th><td>eb32d75b32bc5e8677207fc7</td><td>Bogotá D.C</td><td>8.0e+08</td><td>10</td><td>2020</td><td>267.8363</td><td>292.4311</td><td> 6</td><td>6</td><td>13</td><td>⋯</td><td>-74.14215</td><td>casa fontibon a media cuadra de avda ferrocarril</td><td>oportunidad salio a la una amplia casa rentable en uno de los mejores sectores de fontibon en bogota rodeada de comercio y edificios residenciales sobre calle amplia a solo media cuadra de la avenida el ferrocarril posee local comercial amplio sobre la via 2 apartaestudios rentando ya alquilados con una alcoba bano y cocineta cada uno adicionalmente la propia casa posee 3 alcobas 1 bano 5 espacios de parqueo para 3 carros y 2 motos de los cuales solo 1 carro tendria servidumbre de parqueo los demas vehiculos quedan libres la casa tiene adicionalmente 2 estudios 2 bodegas patio de ropas cocina sala y comedor independientes y 1 aljibe el tamano del lote es de 316 m2 y sus dimensiones son 14 metros de frente x 22 metros de fondo el uso de suelo es mixto y a la propiedad puede darsele uso comercial y residencial estrato 3 direccion carrera 103 a 2246 fontibon zona 9 bogota ano de construccion 1946 de XXX casas ideal para supermercado u hotel en fontibon bogota el uso de suelo es mixto y a la propiedad puede darsele uso comercial y residencial estrato 3 sobre la misma cuadra y acera se encuentran construidos recientemente 2 edificios en cada esquina de 5 pisos cada uno y ambos con sotano y semisotano casas ideal para supermercado u hotel en fontibon bogota</td><td>2.986899</td><td>2.166667</td><td>2.1666667</td><td>1.091828</td><td>1.0000000</td><td>0</td><td>oportunidad salio amplio rentable mejor sector fontib rodeado comercio edificio residencial amplio solo medio cuadra avenido ferrocarril poseer local comercial amplio apartaestudio rentar alquilado cocineta cada adicionalmente propio poseer alcobar espacios parqueo carro moto solo carro tendrio servidumbre parqueo dema vehiculo quedar libre adicionalmente estudio bodega patio ropa cocinar sala comedor independiente aljibir tamano lote 316 dimension frente metros fondo uso suelo mixto poder dar uso comercial residencial estrato direccion 103 2246 fontib zona ano construccion 1946 xxx ideal supermercado hotel fontib uso suelo mixto poder dar uso comercial residencial estrato mismo cuadra acero encontrar construido recientemente edificio cada esquina cada ambos sotano semisotano ideal supermercado hotel fontib</td></tr>\n",
       "\t<tr><th scope=row>4</th><td>880a6e7bd74dc2568940d275</td><td>Bogotá D.C</td><td>4.8e+08</td><td>10</td><td>2020</td><td>173.3283</td><td>176.1723</td><td>11</td><td>3</td><td> 3</td><td>⋯</td><td>-74.05155</td><td>casa en bogota villa del prado                  </td><td>casa villa del prado amplia estilo asturiana muy iluminada tres alcobas estudio sala con chimenea comedor estudio cuarto y bano del servicio cocina patio de ropas cubierto antejardin garaje doble lote independiente celaduria informes juan rodriguez                                                                                                                                                                                                                                                                                                                                                                                                                                                                                                                                                                                                                                                                                                                                                                                                                                                                                                                                                                                                                                                               </td><td>2.769312</td><td>1.000000</td><td>0.2727273</td><td>1.016409</td><td>0.2727273</td><td>0</td><td>villa prado amplio estilo asturiano iluminado tres estudio sala chimeneo comedor estudio servicio cocinar patio ropa cubierto antejardin garaje doble lote independiente celaduria informe juar rodriguez                                                                                                                                                                                                                                                                                                                                                                                                                                                                                                                                                                                                                                         </td></tr>\n",
       "\t<tr><th scope=row>5</th><td>847cf8c0907ac512c8a0fc74</td><td>Bogotá D.C</td><td>8.0e+08</td><td>10</td><td>2020</td><td>175.0000</td><td>253.0000</td><td> 5</td><td>5</td><td> 3</td><td>⋯</td><td>-74.05700</td><td>casa en en bogota malibu cod vrei 16827         </td><td>amplios espacios y ampliaciones a travs de los aos que le fueron sumando a la casa metros los cuales dan en la actualidad trescientos quince metros 6 habitaciones patio de ropas 3 garajes cubiertos ubicada a 2 cuadras de la autopista norte informes claudia rugeles                                                                                                                                                                                                                                                                                                                                                                                                                                                                                                                                                                                                                                                                                                                                                                                                                                                                                                                                                                                                                                               </td><td>4.571429</td><td>0.600000</td><td>0.6000000</td><td>1.445714</td><td>1.0000000</td><td>0</td><td>amplio espacio ampliacion trav sumar dar actualidad tresciento quince patio ropa garaje cubierto cuadra autopista norte informe claudiar rugel                                                                                                                                                                                                                                                                                                                                                                                                                                                                                                                                                                                                                                                                                                    </td></tr>\n",
       "\t<tr><th scope=row>6</th><td>a5a8d725bc0813847bab03f1</td><td>Bogotá D.C</td><td>9.5e+08</td><td>10</td><td>2020</td><td>230.3780</td><td>234.8476</td><td>11</td><td>3</td><td> 4</td><td>⋯</td><td>-74.12586</td><td>casa en bogota modelia                          </td><td>casa remodelada de 3 pisos con bbq ccvt detectores de humo y sistema de alarma comodas vias de acceso excelente zona y vias principales                                                                                                                                                                                                                                                                                                                                                                                                                                                                                                                                                                                                                                                                                                                                                                                                                                                                                                                                                                                                                                                                                                                                                                                </td><td>4.123658</td><td>1.333333</td><td>0.3636364</td><td>1.019401</td><td>0.2727273</td><td>0</td><td>remodelado bbq ccvt detector humo sistema alarmar comoda vio acceso zona principal                                                                                                                                                                                                                                                                                                                                                                                                                                                                                                                                                                                                                                                                                                                                                                </td></tr>\n",
       "</tbody>\n",
       "</table>\n"
      ],
      "text/latex": [
       "A data.frame: 6 × 23\n",
       "\\begin{tabular}{r|lllllllllllllllllllll}\n",
       "  & property\\_id & city & price & month & year & surface\\_total & surface\\_covered & rooms & bedrooms & bathrooms & ⋯ & lon & title & description & precio\\_por\\_mt2 & bathroom\\_per\\_bedroom & bathroom\\_per\\_room & ratio\\_covered & bedroom\\_per\\_room & is\\_test & cleaned\\_text\\\\\n",
       "  & <chr> & <chr> & <dbl> & <fct> & <fct> & <dbl> & <dbl> & <int> & <int> & <int> & ⋯ & <dbl> & <chr> & <chr> & <dbl> & <dbl> & <dbl> & <dbl> & <dbl> & <dbl> & <chr>\\\\\n",
       "\\hline\n",
       "\t1 & 4fa04a187235d7509a43a8cf & Bogotá D.C & 5.8e+08 & 10 & 2020 & 180.6663 & 206.7014 &  3 & 3 & 13 & ⋯ & -74.09965 & de casa en los cerezos                           & cod 2901fr461 de casa multifamiliar 4 pisos garaje y local ubicado sector de los cerezos localidad de engativa agradable vista exterior cuenta con dos terrazas para compartir y disfrutar a una adecuada altura para apreciar la ciudad tiene muy buenos acabados la casa cuenta con 3 apartaestudios cada uno cuenta con su cocina totalmente amoblada y un bano la casa cuenta en total con 5 banos un banos en cada apartaestudio uno en garaje y otro en el local sala comedor con buenos espacios ademas de eso cuenta con 2 terrazas para disfrutar un bbq 3 apartaestudios totalmente independientes local totalmente independiente ubicacion con acceso cerca a la calle 80 a pocas cuadras de av cali o av cra 86 centros comerciales portal 80 y titan restaurantes parques cercanos colegios y universidades                                                                                                                                                                                                                                                                                                                                                                                                                                                                                                & 3.210338 & 4.333333 & 4.3333333 & 1.144106 & 1.0000000 & 0 & cod 2901fr461 multifamiliar garaje local sector cerezo localidad engativo agradable vista exterior contar dos terraza compartir disfrutar adecuado altura apreciar ciudad buen acabado contar apartaestudio cada contar cocina totalmente amoblado contar total cada apartaestudio garaje local sala comedor buen espacio adema contar terraza disfrutar bbq apartaestudio totalmente independiente local totalmente independiente ubicacion acceso cerca cuadra cali centro comercial portal titar restaurante parque cercano colegio universidad                                                                                                                                                                                                                                                                                                \\\\\n",
       "\t2 & f9cfbb306af543a759c1f3f2 & Bogotá D.C & 6.0e+08 & 10 & 2020 & 304.3739 & 329.0327 &  9 & 9 & 13 & ⋯ & -74.13164 & casa en floralia bogota                          & casa en o en el barrio floralia en la ciudad de bogota consta de pisos construidos 2 area construida 260 mts terraza 140 mts X s casa completa X piso X piso X piso 1 sala comedor cocina 4 dormitorios 3 banos patio de ropas cubierto 3 garajes cubiertos piso 2 sala comedor cocina tipo americano 5 dormitorios 2 banos 4 closets terraza zona de ropas deposito su ubicacion estrategica permite contar con transporte publico cercano colegios tiendas multiproposito y mucho mas                                                                                                                                                                                                                                                                                                                                                                                                                                                                                                                                                                                                                                                                                                                                                                                                                                 & 1.971259 & 1.444444 & 1.4444444 & 1.081015 & 1.0000000 & 0 & barrio floralia ciudad construido construido 260 terraza 140 completo sala comedor cocinar dormitorio patio ropa cubierto garaje cubierto sala comedor cocinar tipo americano dormitorio closet terrazar zona ropas depositar ubicacion estrategico permitir contar transporte publico cercano colegio tienda multipropositar                                                                                                                                                                                                                                                                                                                                                                                                                                                                                                                     \\\\\n",
       "\t3 & eb32d75b32bc5e8677207fc7 & Bogotá D.C & 8.0e+08 & 10 & 2020 & 267.8363 & 292.4311 &  6 & 6 & 13 & ⋯ & -74.14215 & casa fontibon a media cuadra de avda ferrocarril & oportunidad salio a la una amplia casa rentable en uno de los mejores sectores de fontibon en bogota rodeada de comercio y edificios residenciales sobre calle amplia a solo media cuadra de la avenida el ferrocarril posee local comercial amplio sobre la via 2 apartaestudios rentando ya alquilados con una alcoba bano y cocineta cada uno adicionalmente la propia casa posee 3 alcobas 1 bano 5 espacios de parqueo para 3 carros y 2 motos de los cuales solo 1 carro tendria servidumbre de parqueo los demas vehiculos quedan libres la casa tiene adicionalmente 2 estudios 2 bodegas patio de ropas cocina sala y comedor independientes y 1 aljibe el tamano del lote es de 316 m2 y sus dimensiones son 14 metros de frente x 22 metros de fondo el uso de suelo es mixto y a la propiedad puede darsele uso comercial y residencial estrato 3 direccion carrera 103 a 2246 fontibon zona 9 bogota ano de construccion 1946 de XXX casas ideal para supermercado u hotel en fontibon bogota el uso de suelo es mixto y a la propiedad puede darsele uso comercial y residencial estrato 3 sobre la misma cuadra y acera se encuentran construidos recientemente 2 edificios en cada esquina de 5 pisos cada uno y ambos con sotano y semisotano casas ideal para supermercado u hotel en fontibon bogota & 2.986899 & 2.166667 & 2.1666667 & 1.091828 & 1.0000000 & 0 & oportunidad salio amplio rentable mejor sector fontib rodeado comercio edificio residencial amplio solo medio cuadra avenido ferrocarril poseer local comercial amplio apartaestudio rentar alquilado cocineta cada adicionalmente propio poseer alcobar espacios parqueo carro moto solo carro tendrio servidumbre parqueo dema vehiculo quedar libre adicionalmente estudio bodega patio ropa cocinar sala comedor independiente aljibir tamano lote 316 dimension frente metros fondo uso suelo mixto poder dar uso comercial residencial estrato direccion 103 2246 fontib zona ano construccion 1946 xxx ideal supermercado hotel fontib uso suelo mixto poder dar uso comercial residencial estrato mismo cuadra acero encontrar construido recientemente edificio cada esquina cada ambos sotano semisotano ideal supermercado hotel fontib\\\\\n",
       "\t4 & 880a6e7bd74dc2568940d275 & Bogotá D.C & 4.8e+08 & 10 & 2020 & 173.3283 & 176.1723 & 11 & 3 &  3 & ⋯ & -74.05155 & casa en bogota villa del prado                   & casa villa del prado amplia estilo asturiana muy iluminada tres alcobas estudio sala con chimenea comedor estudio cuarto y bano del servicio cocina patio de ropas cubierto antejardin garaje doble lote independiente celaduria informes juan rodriguez                                                                                                                                                                                                                                                                                                                                                                                                                                                                                                                                                                                                                                                                                                                                                                                                                                                                                                                                                                                                                                                                & 2.769312 & 1.000000 & 0.2727273 & 1.016409 & 0.2727273 & 0 & villa prado amplio estilo asturiano iluminado tres estudio sala chimeneo comedor estudio servicio cocinar patio ropa cubierto antejardin garaje doble lote independiente celaduria informe juar rodriguez                                                                                                                                                                                                                                                                                                                                                                                                                                                                                                                                                                                                                                         \\\\\n",
       "\t5 & 847cf8c0907ac512c8a0fc74 & Bogotá D.C & 8.0e+08 & 10 & 2020 & 175.0000 & 253.0000 &  5 & 5 &  3 & ⋯ & -74.05700 & casa en en bogota malibu cod vrei 16827          & amplios espacios y ampliaciones a travs de los aos que le fueron sumando a la casa metros los cuales dan en la actualidad trescientos quince metros 6 habitaciones patio de ropas 3 garajes cubiertos ubicada a 2 cuadras de la autopista norte informes claudia rugeles                                                                                                                                                                                                                                                                                                                                                                                                                                                                                                                                                                                                                                                                                                                                                                                                                                                                                                                                                                                                                                                & 4.571429 & 0.600000 & 0.6000000 & 1.445714 & 1.0000000 & 0 & amplio espacio ampliacion trav sumar dar actualidad tresciento quince patio ropa garaje cubierto cuadra autopista norte informe claudiar rugel                                                                                                                                                                                                                                                                                                                                                                                                                                                                                                                                                                                                                                                                                                    \\\\\n",
       "\t6 & a5a8d725bc0813847bab03f1 & Bogotá D.C & 9.5e+08 & 10 & 2020 & 230.3780 & 234.8476 & 11 & 3 &  4 & ⋯ & -74.12586 & casa en bogota modelia                           & casa remodelada de 3 pisos con bbq ccvt detectores de humo y sistema de alarma comodas vias de acceso excelente zona y vias principales                                                                                                                                                                                                                                                                                                                                                                                                                                                                                                                                                                                                                                                                                                                                                                                                                                                                                                                                                                                                                                                                                                                                                                                 & 4.123658 & 1.333333 & 0.3636364 & 1.019401 & 0.2727273 & 0 & remodelado bbq ccvt detector humo sistema alarmar comoda vio acceso zona principal                                                                                                                                                                                                                                                                                                                                                                                                                                                                                                                                                                                                                                                                                                                                                                \\\\\n",
       "\\end{tabular}\n"
      ],
      "text/markdown": [
       "\n",
       "A data.frame: 6 × 23\n",
       "\n",
       "| <!--/--> | property_id &lt;chr&gt; | city &lt;chr&gt; | price &lt;dbl&gt; | month &lt;fct&gt; | year &lt;fct&gt; | surface_total &lt;dbl&gt; | surface_covered &lt;dbl&gt; | rooms &lt;int&gt; | bedrooms &lt;int&gt; | bathrooms &lt;int&gt; | ⋯ ⋯ | lon &lt;dbl&gt; | title &lt;chr&gt; | description &lt;chr&gt; | precio_por_mt2 &lt;dbl&gt; | bathroom_per_bedroom &lt;dbl&gt; | bathroom_per_room &lt;dbl&gt; | ratio_covered &lt;dbl&gt; | bedroom_per_room &lt;dbl&gt; | is_test &lt;dbl&gt; | cleaned_text &lt;chr&gt; |\n",
       "|---|---|---|---|---|---|---|---|---|---|---|---|---|---|---|---|---|---|---|---|---|---|\n",
       "| 1 | 4fa04a187235d7509a43a8cf | Bogotá D.C | 5.8e+08 | 10 | 2020 | 180.6663 | 206.7014 |  3 | 3 | 13 | ⋯ | -74.09965 | de casa en los cerezos                           | cod 2901fr461 de casa multifamiliar 4 pisos garaje y local ubicado sector de los cerezos localidad de engativa agradable vista exterior cuenta con dos terrazas para compartir y disfrutar a una adecuada altura para apreciar la ciudad tiene muy buenos acabados la casa cuenta con 3 apartaestudios cada uno cuenta con su cocina totalmente amoblada y un bano la casa cuenta en total con 5 banos un banos en cada apartaestudio uno en garaje y otro en el local sala comedor con buenos espacios ademas de eso cuenta con 2 terrazas para disfrutar un bbq 3 apartaestudios totalmente independientes local totalmente independiente ubicacion con acceso cerca a la calle 80 a pocas cuadras de av cali o av cra 86 centros comerciales portal 80 y titan restaurantes parques cercanos colegios y universidades                                                                                                                                                                                                                                                                                                                                                                                                                                                                                                | 3.210338 | 4.333333 | 4.3333333 | 1.144106 | 1.0000000 | 0 | cod 2901fr461 multifamiliar garaje local sector cerezo localidad engativo agradable vista exterior contar dos terraza compartir disfrutar adecuado altura apreciar ciudad buen acabado contar apartaestudio cada contar cocina totalmente amoblado contar total cada apartaestudio garaje local sala comedor buen espacio adema contar terraza disfrutar bbq apartaestudio totalmente independiente local totalmente independiente ubicacion acceso cerca cuadra cali centro comercial portal titar restaurante parque cercano colegio universidad                                                                                                                                                                                                                                                                                                 |\n",
       "| 2 | f9cfbb306af543a759c1f3f2 | Bogotá D.C | 6.0e+08 | 10 | 2020 | 304.3739 | 329.0327 |  9 | 9 | 13 | ⋯ | -74.13164 | casa en floralia bogota                          | casa en o en el barrio floralia en la ciudad de bogota consta de pisos construidos 2 area construida 260 mts terraza 140 mts X s casa completa X piso X piso X piso 1 sala comedor cocina 4 dormitorios 3 banos patio de ropas cubierto 3 garajes cubiertos piso 2 sala comedor cocina tipo americano 5 dormitorios 2 banos 4 closets terraza zona de ropas deposito su ubicacion estrategica permite contar con transporte publico cercano colegios tiendas multiproposito y mucho mas                                                                                                                                                                                                                                                                                                                                                                                                                                                                                                                                                                                                                                                                                                                                                                                                                                 | 1.971259 | 1.444444 | 1.4444444 | 1.081015 | 1.0000000 | 0 | barrio floralia ciudad construido construido 260 terraza 140 completo sala comedor cocinar dormitorio patio ropa cubierto garaje cubierto sala comedor cocinar tipo americano dormitorio closet terrazar zona ropas depositar ubicacion estrategico permitir contar transporte publico cercano colegio tienda multipropositar                                                                                                                                                                                                                                                                                                                                                                                                                                                                                                                      |\n",
       "| 3 | eb32d75b32bc5e8677207fc7 | Bogotá D.C | 8.0e+08 | 10 | 2020 | 267.8363 | 292.4311 |  6 | 6 | 13 | ⋯ | -74.14215 | casa fontibon a media cuadra de avda ferrocarril | oportunidad salio a la una amplia casa rentable en uno de los mejores sectores de fontibon en bogota rodeada de comercio y edificios residenciales sobre calle amplia a solo media cuadra de la avenida el ferrocarril posee local comercial amplio sobre la via 2 apartaestudios rentando ya alquilados con una alcoba bano y cocineta cada uno adicionalmente la propia casa posee 3 alcobas 1 bano 5 espacios de parqueo para 3 carros y 2 motos de los cuales solo 1 carro tendria servidumbre de parqueo los demas vehiculos quedan libres la casa tiene adicionalmente 2 estudios 2 bodegas patio de ropas cocina sala y comedor independientes y 1 aljibe el tamano del lote es de 316 m2 y sus dimensiones son 14 metros de frente x 22 metros de fondo el uso de suelo es mixto y a la propiedad puede darsele uso comercial y residencial estrato 3 direccion carrera 103 a 2246 fontibon zona 9 bogota ano de construccion 1946 de XXX casas ideal para supermercado u hotel en fontibon bogota el uso de suelo es mixto y a la propiedad puede darsele uso comercial y residencial estrato 3 sobre la misma cuadra y acera se encuentran construidos recientemente 2 edificios en cada esquina de 5 pisos cada uno y ambos con sotano y semisotano casas ideal para supermercado u hotel en fontibon bogota | 2.986899 | 2.166667 | 2.1666667 | 1.091828 | 1.0000000 | 0 | oportunidad salio amplio rentable mejor sector fontib rodeado comercio edificio residencial amplio solo medio cuadra avenido ferrocarril poseer local comercial amplio apartaestudio rentar alquilado cocineta cada adicionalmente propio poseer alcobar espacios parqueo carro moto solo carro tendrio servidumbre parqueo dema vehiculo quedar libre adicionalmente estudio bodega patio ropa cocinar sala comedor independiente aljibir tamano lote 316 dimension frente metros fondo uso suelo mixto poder dar uso comercial residencial estrato direccion 103 2246 fontib zona ano construccion 1946 xxx ideal supermercado hotel fontib uso suelo mixto poder dar uso comercial residencial estrato mismo cuadra acero encontrar construido recientemente edificio cada esquina cada ambos sotano semisotano ideal supermercado hotel fontib |\n",
       "| 4 | 880a6e7bd74dc2568940d275 | Bogotá D.C | 4.8e+08 | 10 | 2020 | 173.3283 | 176.1723 | 11 | 3 |  3 | ⋯ | -74.05155 | casa en bogota villa del prado                   | casa villa del prado amplia estilo asturiana muy iluminada tres alcobas estudio sala con chimenea comedor estudio cuarto y bano del servicio cocina patio de ropas cubierto antejardin garaje doble lote independiente celaduria informes juan rodriguez                                                                                                                                                                                                                                                                                                                                                                                                                                                                                                                                                                                                                                                                                                                                                                                                                                                                                                                                                                                                                                                                | 2.769312 | 1.000000 | 0.2727273 | 1.016409 | 0.2727273 | 0 | villa prado amplio estilo asturiano iluminado tres estudio sala chimeneo comedor estudio servicio cocinar patio ropa cubierto antejardin garaje doble lote independiente celaduria informe juar rodriguez                                                                                                                                                                                                                                                                                                                                                                                                                                                                                                                                                                                                                                          |\n",
       "| 5 | 847cf8c0907ac512c8a0fc74 | Bogotá D.C | 8.0e+08 | 10 | 2020 | 175.0000 | 253.0000 |  5 | 5 |  3 | ⋯ | -74.05700 | casa en en bogota malibu cod vrei 16827          | amplios espacios y ampliaciones a travs de los aos que le fueron sumando a la casa metros los cuales dan en la actualidad trescientos quince metros 6 habitaciones patio de ropas 3 garajes cubiertos ubicada a 2 cuadras de la autopista norte informes claudia rugeles                                                                                                                                                                                                                                                                                                                                                                                                                                                                                                                                                                                                                                                                                                                                                                                                                                                                                                                                                                                                                                                | 4.571429 | 0.600000 | 0.6000000 | 1.445714 | 1.0000000 | 0 | amplio espacio ampliacion trav sumar dar actualidad tresciento quince patio ropa garaje cubierto cuadra autopista norte informe claudiar rugel                                                                                                                                                                                                                                                                                                                                                                                                                                                                                                                                                                                                                                                                                                     |\n",
       "| 6 | a5a8d725bc0813847bab03f1 | Bogotá D.C | 9.5e+08 | 10 | 2020 | 230.3780 | 234.8476 | 11 | 3 |  4 | ⋯ | -74.12586 | casa en bogota modelia                           | casa remodelada de 3 pisos con bbq ccvt detectores de humo y sistema de alarma comodas vias de acceso excelente zona y vias principales                                                                                                                                                                                                                                                                                                                                                                                                                                                                                                                                                                                                                                                                                                                                                                                                                                                                                                                                                                                                                                                                                                                                                                                 | 4.123658 | 1.333333 | 0.3636364 | 1.019401 | 0.2727273 | 0 | remodelado bbq ccvt detector humo sistema alarmar comoda vio acceso zona principal                                                                                                                                                                                                                                                                                                                                                                                                                                                                                                                                                                                                                                                                                                                                                                 |\n",
       "\n"
      ],
      "text/plain": [
       "  property_id              city       price   month year surface_total\n",
       "1 4fa04a187235d7509a43a8cf Bogotá D.C 5.8e+08 10    2020 180.6663     \n",
       "2 f9cfbb306af543a759c1f3f2 Bogotá D.C 6.0e+08 10    2020 304.3739     \n",
       "3 eb32d75b32bc5e8677207fc7 Bogotá D.C 8.0e+08 10    2020 267.8363     \n",
       "4 880a6e7bd74dc2568940d275 Bogotá D.C 4.8e+08 10    2020 173.3283     \n",
       "5 847cf8c0907ac512c8a0fc74 Bogotá D.C 8.0e+08 10    2020 175.0000     \n",
       "6 a5a8d725bc0813847bab03f1 Bogotá D.C 9.5e+08 10    2020 230.3780     \n",
       "  surface_covered rooms bedrooms bathrooms ⋯ lon      \n",
       "1 206.7014         3    3        13        ⋯ -74.09965\n",
       "2 329.0327         9    9        13        ⋯ -74.13164\n",
       "3 292.4311         6    6        13        ⋯ -74.14215\n",
       "4 176.1723        11    3         3        ⋯ -74.05155\n",
       "5 253.0000         5    5         3        ⋯ -74.05700\n",
       "6 234.8476        11    3         4        ⋯ -74.12586\n",
       "  title                                           \n",
       "1 de casa en los cerezos                          \n",
       "2 casa en floralia bogota                         \n",
       "3 casa fontibon a media cuadra de avda ferrocarril\n",
       "4 casa en bogota villa del prado                  \n",
       "5 casa en en bogota malibu cod vrei 16827         \n",
       "6 casa en bogota modelia                          \n",
       "  description                                                                                                                                                                                                                                                                                                                                                                                                                                                                                                                                                                                                                                                                                                                                                                                                                                                                                                                                                                                                                                                                                                                                                                                                                                                                                                            \n",
       "1 cod 2901fr461 de casa multifamiliar 4 pisos garaje y local ubicado sector de los cerezos localidad de engativa agradable vista exterior cuenta con dos terrazas para compartir y disfrutar a una adecuada altura para apreciar la ciudad tiene muy buenos acabados la casa cuenta con 3 apartaestudios cada uno cuenta con su cocina totalmente amoblada y un bano la casa cuenta en total con 5 banos un banos en cada apartaestudio uno en garaje y otro en el local sala comedor con buenos espacios ademas de eso cuenta con 2 terrazas para disfrutar un bbq 3 apartaestudios totalmente independientes local totalmente independiente ubicacion con acceso cerca a la calle 80 a pocas cuadras de av cali o av cra 86 centros comerciales portal 80 y titan restaurantes parques cercanos colegios y universidades                                                                                                                                                                                                                                                                                                                                                                                                                                                                                               \n",
       "2 casa en o en el barrio floralia en la ciudad de bogota consta de pisos construidos 2 area construida 260 mts terraza 140 mts X s casa completa X piso X piso X piso 1 sala comedor cocina 4 dormitorios 3 banos patio de ropas cubierto 3 garajes cubiertos piso 2 sala comedor cocina tipo americano 5 dormitorios 2 banos 4 closets terraza zona de ropas deposito su ubicacion estrategica permite contar con transporte publico cercano colegios tiendas multiproposito y mucho mas                                                                                                                                                                                                                                                                                                                                                                                                                                                                                                                                                                                                                                                                                                                                                                                                                                \n",
       "3 oportunidad salio a la una amplia casa rentable en uno de los mejores sectores de fontibon en bogota rodeada de comercio y edificios residenciales sobre calle amplia a solo media cuadra de la avenida el ferrocarril posee local comercial amplio sobre la via 2 apartaestudios rentando ya alquilados con una alcoba bano y cocineta cada uno adicionalmente la propia casa posee 3 alcobas 1 bano 5 espacios de parqueo para 3 carros y 2 motos de los cuales solo 1 carro tendria servidumbre de parqueo los demas vehiculos quedan libres la casa tiene adicionalmente 2 estudios 2 bodegas patio de ropas cocina sala y comedor independientes y 1 aljibe el tamano del lote es de 316 m2 y sus dimensiones son 14 metros de frente x 22 metros de fondo el uso de suelo es mixto y a la propiedad puede darsele uso comercial y residencial estrato 3 direccion carrera 103 a 2246 fontibon zona 9 bogota ano de construccion 1946 de XXX casas ideal para supermercado u hotel en fontibon bogota el uso de suelo es mixto y a la propiedad puede darsele uso comercial y residencial estrato 3 sobre la misma cuadra y acera se encuentran construidos recientemente 2 edificios en cada esquina de 5 pisos cada uno y ambos con sotano y semisotano casas ideal para supermercado u hotel en fontibon bogota\n",
       "4 casa villa del prado amplia estilo asturiana muy iluminada tres alcobas estudio sala con chimenea comedor estudio cuarto y bano del servicio cocina patio de ropas cubierto antejardin garaje doble lote independiente celaduria informes juan rodriguez                                                                                                                                                                                                                                                                                                                                                                                                                                                                                                                                                                                                                                                                                                                                                                                                                                                                                                                                                                                                                                                               \n",
       "5 amplios espacios y ampliaciones a travs de los aos que le fueron sumando a la casa metros los cuales dan en la actualidad trescientos quince metros 6 habitaciones patio de ropas 3 garajes cubiertos ubicada a 2 cuadras de la autopista norte informes claudia rugeles                                                                                                                                                                                                                                                                                                                                                                                                                                                                                                                                                                                                                                                                                                                                                                                                                                                                                                                                                                                                                                               \n",
       "6 casa remodelada de 3 pisos con bbq ccvt detectores de humo y sistema de alarma comodas vias de acceso excelente zona y vias principales                                                                                                                                                                                                                                                                                                                                                                                                                                                                                                                                                                                                                                                                                                                                                                                                                                                                                                                                                                                                                                                                                                                                                                                \n",
       "  precio_por_mt2 bathroom_per_bedroom bathroom_per_room ratio_covered\n",
       "1 3.210338       4.333333             4.3333333         1.144106     \n",
       "2 1.971259       1.444444             1.4444444         1.081015     \n",
       "3 2.986899       2.166667             2.1666667         1.091828     \n",
       "4 2.769312       1.000000             0.2727273         1.016409     \n",
       "5 4.571429       0.600000             0.6000000         1.445714     \n",
       "6 4.123658       1.333333             0.3636364         1.019401     \n",
       "  bedroom_per_room is_test\n",
       "1 1.0000000        0      \n",
       "2 1.0000000        0      \n",
       "3 1.0000000        0      \n",
       "4 0.2727273        0      \n",
       "5 1.0000000        0      \n",
       "6 0.2727273        0      \n",
       "  cleaned_text                                                                                                                                                                                                                                                                                                                                                                                                                                                                                                                                                                                                                                                                                                                                                                                                                                      \n",
       "1 cod 2901fr461 multifamiliar garaje local sector cerezo localidad engativo agradable vista exterior contar dos terraza compartir disfrutar adecuado altura apreciar ciudad buen acabado contar apartaestudio cada contar cocina totalmente amoblado contar total cada apartaestudio garaje local sala comedor buen espacio adema contar terraza disfrutar bbq apartaestudio totalmente independiente local totalmente independiente ubicacion acceso cerca cuadra cali centro comercial portal titar restaurante parque cercano colegio universidad                                                                                                                                                                                                                                                                                                \n",
       "2 barrio floralia ciudad construido construido 260 terraza 140 completo sala comedor cocinar dormitorio patio ropa cubierto garaje cubierto sala comedor cocinar tipo americano dormitorio closet terrazar zona ropas depositar ubicacion estrategico permitir contar transporte publico cercano colegio tienda multipropositar                                                                                                                                                                                                                                                                                                                                                                                                                                                                                                                     \n",
       "3 oportunidad salio amplio rentable mejor sector fontib rodeado comercio edificio residencial amplio solo medio cuadra avenido ferrocarril poseer local comercial amplio apartaestudio rentar alquilado cocineta cada adicionalmente propio poseer alcobar espacios parqueo carro moto solo carro tendrio servidumbre parqueo dema vehiculo quedar libre adicionalmente estudio bodega patio ropa cocinar sala comedor independiente aljibir tamano lote 316 dimension frente metros fondo uso suelo mixto poder dar uso comercial residencial estrato direccion 103 2246 fontib zona ano construccion 1946 xxx ideal supermercado hotel fontib uso suelo mixto poder dar uso comercial residencial estrato mismo cuadra acero encontrar construido recientemente edificio cada esquina cada ambos sotano semisotano ideal supermercado hotel fontib\n",
       "4 villa prado amplio estilo asturiano iluminado tres estudio sala chimeneo comedor estudio servicio cocinar patio ropa cubierto antejardin garaje doble lote independiente celaduria informe juar rodriguez                                                                                                                                                                                                                                                                                                                                                                                                                                                                                                                                                                                                                                         \n",
       "5 amplio espacio ampliacion trav sumar dar actualidad tresciento quince patio ropa garaje cubierto cuadra autopista norte informe claudiar rugel                                                                                                                                                                                                                                                                                                                                                                                                                                                                                                                                                                                                                                                                                                    \n",
       "6 remodelado bbq ccvt detector humo sistema alarmar comoda vio acceso zona principal                                                                                                                                                                                                                                                                                                                                                                                                                                                                                                                                                                                                                                                                                                                                                                "
      ]
     },
     "metadata": {},
     "output_type": "display_data"
    }
   ],
   "source": [
    "head(data_reg)"
   ]
  },
  {
   "cell_type": "markdown",
   "id": "4bb211db",
   "metadata": {},
   "source": [
    "## Combinamos columnas que se repiten con diferente nombre"
   ]
  },
  {
   "cell_type": "code",
   "execution_count": 34,
   "id": "6e54b6ee",
   "metadata": {
    "vscode": {
     "languageId": "r"
    }
   },
   "outputs": [],
   "source": [
    "combinar_dummies <- function(data, variable_pairs) {\n",
    "  data_copy <- data\n",
    "  \n",
    "  for (pair in variable_pairs) {\n",
    "    var1 <- pair[1]\n",
    "    var2 <- pair[2]\n",
    "    \n",
    "    # Verifica si ambas columnas existen\n",
    "    if (var1 %in% names(data_copy) && var2 %in% names(data_copy)) {\n",
    "      base <- gsub(\"d_\", \"\", var1)\n",
    "      new_col <- paste0(\"d_\", base)\n",
    "      \n",
    "      data_copy[[new_col]] <- pmax(data_copy[[var1]], data_copy[[var2]], na.rm = TRUE)\n",
    "      \n",
    "      data_copy <- data_copy %>% select(-all_of(c(var1, var2)))\n",
    "    } else {\n",
    "      message(paste(\"Se omitió el par:\", var1, \"+\", var2, \"→ no encontrado.\"))\n",
    "    }\n",
    "  }\n",
    "  \n",
    "  return(data_copy)\n",
    "}"
   ]
  },
  {
   "cell_type": "markdown",
   "id": "e91e6110",
   "metadata": {},
   "source": [
    "Coluumnas equivalentes"
   ]
  },
  {
   "cell_type": "code",
   "execution_count": 35,
   "id": "37e8f2dd",
   "metadata": {
    "vscode": {
     "languageId": "r"
    }
   },
   "outputs": [],
   "source": [
    "variable_pairs <- list(\n",
    "  \n",
    "  c(\"d_iluminacion\", \"d_iluminado\"),\n",
    "  c(\"d_saln\", \"d_salon\")\n",
    ")"
   ]
  },
  {
   "cell_type": "code",
   "execution_count": 36,
   "id": "bcfa7dc2",
   "metadata": {
    "vscode": {
     "languageId": "r"
    }
   },
   "outputs": [
    {
     "name": "stderr",
     "output_type": "stream",
     "text": [
      "Se omitió el par: d_saln + d_salon → no encontrado.\n",
      "\n"
     ]
    }
   ],
   "source": [
    "data_reg_med_clean <- combinar_dummies(data_reg_med, variable_pairs)\n",
    "\n",
    "data_med_med_clean <- combinar_dummies(data_med_med, variable_pairs)"
   ]
  },
  {
   "cell_type": "markdown",
   "id": "d901ae0b",
   "metadata": {},
   "source": [
    "## Reduccion por PCA para seleccionar variables"
   ]
  },
  {
   "cell_type": "code",
   "execution_count": 39,
   "id": "84998ceb",
   "metadata": {
    "vscode": {
     "languageId": "r"
    }
   },
   "outputs": [],
   "source": [
    "columnas_excluir <- c(\"property_id\", \"price\", \"city\", \"month\", \"year\", \n",
    "                      \"property_type\", \"operation_type\", \"lat\", \"lon\", \"title\", \n",
    "                      \"description\", \"cleaned_text\", \"is_test\", \"bathroom_per_bedroom\", \"bathroom_per_room\", \"ratio_covered\",\"bedroom_per_room\",\"precio_por_mt2\")\n",
    "\n",
    "perform_pca <- function(data, exclude_columns, explained_variance = 0.95) {\n",
    "  # 1. Separar y filtrar solo numéricas\n",
    "  X_pca <- data %>%\n",
    "    select(-all_of(exclude_columns)) %>%\n",
    "    select(where(is.numeric)) %>%\n",
    "    mutate(across(everything(), ~ ifelse(is.na(.), median(., na.rm = TRUE), .)))\n",
    "  \n",
    "  X_remaining <- data %>% select(all_of(exclude_columns))\n",
    "  \n",
    "  # 2. Estandarizar\n",
    "  pre_proc <- caret::preProcess(X_pca, method = c(\"center\", \"scale\"))\n",
    "  X_scaled <- predict(pre_proc, X_pca)\n",
    "  \n",
    "  # 3. PCA\n",
    "  pca_result <- prcomp(X_scaled, center = FALSE, scale. = FALSE)\n",
    "  \n",
    "  # 4. Varianza acumulada\n",
    "  var_cum <- cumsum(pca_result$sdev^2) / sum(pca_result$sdev^2)\n",
    "  n_componentes <- which(var_cum >= explained_variance)[1]\n",
    "  \n",
    "  # 5. Extraer componentes\n",
    "  pcs <- as.data.frame(pca_result$x[, 1:n_componentes])\n",
    "  colnames(pcs) <- paste0(\"PC\", 1:n_componentes)\n",
    "  \n",
    "  # 6. Combinar\n",
    "  resultado <- cbind(X_remaining, pcs)\n",
    "  \n",
    "  return(list(data = resultado, pca = pca_result, varianza = var_cum))\n",
    "}                "
   ]
  },
  {
   "cell_type": "code",
   "execution_count": 40,
   "id": "1b87a6de",
   "metadata": {
    "vscode": {
     "languageId": "r"
    }
   },
   "outputs": [
    {
     "data": {
      "text/html": [
       "131"
      ],
      "text/latex": [
       "131"
      ],
      "text/markdown": [
       "131"
      ],
      "text/plain": [
       "[1] 131"
      ]
     },
     "metadata": {},
     "output_type": "display_data"
    },
    {
     "data": {
      "text/html": [
       "131"
      ],
      "text/latex": [
       "131"
      ],
      "text/markdown": [
       "131"
      ],
      "text/plain": [
       "[1] 131"
      ]
     },
     "metadata": {},
     "output_type": "display_data"
    }
   ],
   "source": [
    "resultado_pca_reg <- perform_pca(data_reg_med_clean, columnas_excluir, explained_variance = 0.95)\n",
    "data_reg_med_pca <- resultado_pca_reg$data\n",
    "modelo_pca_reg <- resultado_pca_reg$pca\n",
    "var_cum_reg <- resultado_pca_reg$varianza\n",
    "\n",
    "length(resultado_pca_reg$varianza[resultado_pca_reg$varianza < 0.95]) + 1\n",
    "\n",
    "resultado_pca_med <- perform_pca(data_med_med_clean, columnas_excluir, explained_variance = 0.95)\n",
    "data_med_med_pca <- resultado_pca_med$data\n",
    "modelo_pca_med <- resultado_pca_med$pca\n",
    "var_cum_med <- resultado_pca_med$varianza\n",
    "\n",
    "length(resultado_pca_med$varianza[resultado_pca_med$varianza < 0.95]) + 1"
   ]
  },
  {
   "cell_type": "code",
   "execution_count": 41,
   "id": "81e8a89b",
   "metadata": {
    "vscode": {
     "languageId": "r"
    }
   },
   "outputs": [],
   "source": [
    "limite_componentes_reg <- which(var_cum_reg >= 0.95)[1]\n",
    "limite_componentes_med <- which(var_cum_med >= 0.95)[1]"
   ]
  },
  {
   "cell_type": "markdown",
   "id": "5c4db5dc",
   "metadata": {},
   "source": [
    "Creamos data filtrada"
   ]
  },
  {
   "cell_type": "code",
   "execution_count": 43,
   "id": "d8fa8b60",
   "metadata": {
    "vscode": {
     "languageId": "r"
    }
   },
   "outputs": [],
   "source": [
    "df_varianza_reg <- data.frame(\n",
    "  Componente = 1:limite_componentes_reg,\n",
    "  VarianzaAcumulada = var_cum_reg[1:limite_componentes_reg]\n",
    ")\n",
    "\n",
    "df_varianza_med <- data.frame(\n",
    "  Componente = 1:limite_componentes_med,\n",
    "  VarianzaAcumulada = var_cum_med[1:limite_componentes_med]\n",
    ")"
   ]
  },
  {
   "cell_type": "markdown",
   "id": "2a0d5f37",
   "metadata": {},
   "source": [
    "Graficamos"
   ]
  },
  {
   "cell_type": "code",
   "execution_count": 45,
   "id": "1bf98f76",
   "metadata": {
    "vscode": {
     "languageId": "r"
    }
   },
   "outputs": [
    {
     "data": {
      "image/png": "[encoded data removed]",
      "text/plain": [
       "plot without title"
      ]
     },
     "metadata": {
      "image/png": {
       "height": 360,
       "width": 600
      }
     },
     "output_type": "display_data"
    },
    {
     "data": {
      "image/png": "[encoded data removed]",
      "text/plain": [
       "plot without title"
      ]
     },
     "metadata": {
      "image/png": {
       "height": 360,
       "width": 600
      }
     },
     "output_type": "display_data"
    }
   ],
   "source": [
    "ggplot(df_varianza_reg, aes(x = Componente, y = VarianzaAcumulada)) +\n",
    "  geom_line(color = \"darkred\", size = 1, linetype = \"dashed\") +\n",
    "  geom_point(color = \"darkred\", size = 1.5) +\n",
    "  geom_hline(yintercept = 0.95, color = \"blue\", size = 1) +\n",
    "  geom_vline(xintercept = limite_componentes_reg, color = \"lightblue\", size = 1) +\n",
    "  labs(\n",
    "    title = paste(\"Scree Plot hasta 95% de Varianza (\", limite_componentes_reg, \" PCs)\", sep = \"\"),\n",
    "    x = \"Número de Componentes\",\n",
    "    y = \"Varianza Explicada Acumulada\"\n",
    "  ) +\n",
    "  theme_minimal(base_size = 13) +\n",
    "  theme(plot.title = element_text(face = \"bold\", hjust = 0.5))\n",
    "\n",
    "ggplot(df_varianza_med, aes(x = Componente, y = VarianzaAcumulada)) +\n",
    "  geom_line(color = \"darkred\", size = 1, linetype = \"dashed\") +\n",
    "  geom_point(color = \"darkred\", size = 1.5) +\n",
    "  geom_hline(yintercept = 0.95, color = \"blue\", size = 1) +\n",
    "  geom_vline(xintercept = limite_componentes_med, color = \"lightblue\", size = 1) +\n",
    "  labs(\n",
    "    title = paste(\"Scree Plot hasta 95% de Varianza (\", limite_componentes_med, \" PCs)\", sep = \"\"),\n",
    "    x = \"Número de Componentes\",\n",
    "    y = \"Varianza Explicada Acumulada\"\n",
    "  ) +\n",
    "  theme_minimal(base_size = 13) +\n",
    "  theme(plot.title = element_text(face = \"bold\", hjust = 0.5))\n"
   ]
  },
  {
   "cell_type": "markdown",
   "id": "6115a4cf",
   "metadata": {},
   "source": [
    "Seleccionamos componentes"
   ]
  },
  {
   "cell_type": "code",
   "execution_count": 46,
   "id": "160ab9a7",
   "metadata": {
    "vscode": {
     "languageId": "r"
    }
   },
   "outputs": [],
   "source": [
    "explained_variance_reg <- (modelo_pca_reg$sdev^2) / sum(modelo_pca_reg$sdev^2)\n",
    "\n",
    "# 2. DataFrame para graficar\n",
    "df_varianza_ex_reg <- data.frame(\n",
    "  Componente = 1:length(explained_variance_reg),\n",
    "  Varianza = explained_variance_reg\n",
    ")\n",
    "\n",
    "explained_variance_med <- (modelo_pca_med$sdev^2) / sum(modelo_pca_med$sdev^2)\n",
    "\n",
    "df_varianza_ex_med <- data.frame(\n",
    "  Componente = 1:length(explained_variance_med),\n",
    "  Varianza = explained_variance_med\n",
    ")"
   ]
  },
  {
   "cell_type": "markdown",
   "id": "96a32183",
   "metadata": {},
   "source": [
    "Graficamos"
   ]
  },
  {
   "cell_type": "code",
   "execution_count": 47,
   "id": "766df78b",
   "metadata": {
    "vscode": {
     "languageId": "r"
    }
   },
   "outputs": [
    {
     "data": {
      "image/png": "[encoded data removed]",
      "text/plain": [
       "plot without title"
      ]
     },
     "metadata": {
      "image/png": {
       "height": 360,
       "width": 600
      }
     },
     "output_type": "display_data"
    },
    {
     "data": {
      "image/png": "[encoded data removed]",
      "text/plain": [
       "plot without title"
      ]
     },
     "metadata": {
      "image/png": {
       "height": 360,
       "width": 600
      }
     },
     "output_type": "display_data"
    }
   ],
   "source": [
    "ggplot(df_varianza_ex_reg, aes(x = Componente, y = Varianza)) +\n",
    "  geom_line(color = \"blue\", linetype = \"dashed\") +\n",
    "  geom_point(color = \"blue\") +\n",
    "  geom_vline(xintercept = length(colnames(data_reg_med_pca)) - length(columnas_excluir), \n",
    "             color = \"green\", linetype = \"dotted\") +\n",
    "  labs(title = \"Elbow Plot para PCA\",\n",
    "       x = \"Número de Componentes\",\n",
    "       y = \"Varianza Explicada\") +\n",
    "  theme_minimal() +\n",
    "  theme(plot.title = element_text(face = \"bold\", size = 14))\n",
    "\n",
    "ggplot(df_varianza_ex_med, aes(x = Componente, y = Varianza)) +\n",
    "  geom_line(color = \"blue\", linetype = \"dashed\") +\n",
    "  geom_point(color = \"blue\") +\n",
    "  geom_vline(xintercept = length(colnames(data_med_med_pca)) - length(columnas_excluir), \n",
    "             color = \"green\", linetype = \"dotted\") +\n",
    "  labs(title = \"Elbow Plot para PCA\",\n",
    "       x = \"Número de Componentes\",\n",
    "       y = \"Varianza Explicada\") +\n",
    "  theme_minimal() +\n",
    "  theme(plot.title = element_text(face = \"bold\", size = 14))"
   ]
  },
  {
   "cell_type": "code",
   "execution_count": 50,
   "id": "59eb4b4b",
   "metadata": {
    "vscode": {
     "languageId": "r"
    }
   },
   "outputs": [
    {
     "name": "stdout",
     "output_type": "stream",
     "text": [
      "'data.frame':\t47478 obs. of  48 variables:\n",
      " $ property_id         : chr  \"4fa04a187235d7509a43a8cf\" \"f9cfbb306af543a759c1f3f2\" \"eb32d75b32bc5e8677207fc7\" \"880a6e7bd74dc2568940d275\" ...\n",
      " $ price               : num  5.8e+08 6.0e+08 8.0e+08 4.8e+08 8.0e+08 9.5e+08 5.6e+08 4.5e+08 7.2e+08 7.2e+08 ...\n",
      " $ city                : chr  \"Bogotá D.C\" \"Bogotá D.C\" \"Bogotá D.C\" \"Bogotá D.C\" ...\n",
      " $ month               : Factor w/ 12 levels \"1\",\"2\",\"3\",\"4\",..: 10 10 10 10 10 10 10 10 10 10 ...\n",
      " $ year                : Factor w/ 3 levels \"2019\",\"2020\",..: 2 2 2 2 2 2 2 2 2 2 ...\n",
      " $ property_type       : Factor w/ 2 levels \"Apartamento\",..: 2 2 2 2 2 2 2 2 2 2 ...\n",
      " $ operation_type      : chr  \"Venta\" \"Venta\" \"Venta\" \"Venta\" ...\n",
      " $ lat                 : num  4.71 4.61 4.68 4.76 4.7 ...\n",
      " $ lon                 : num  -74.1 -74.1 -74.1 -74.1 -74.1 ...\n",
      " $ title               : chr  \"de casa en los cerezos\" \"casa en floralia bogota\" \"casa fontibon a media cuadra de avda ferrocarril\" \"casa en bogota villa del prado\" ...\n",
      " $ description         : chr  \"cod 2901fr461 de casa multifamiliar 4 pisos garaje y local ubicado sector de los cerezos localidad de engativa \"| __truncated__ \"casa en o en el barrio floralia en la ciudad de bogota consta de pisos construidos 2 area construida 260 mts te\"| __truncated__ \"oportunidad salio a la una amplia casa rentable en uno de los mejores sectores de fontibon en bogota rodeada de\"| __truncated__ \"casa villa del prado amplia estilo asturiana muy iluminada tres alcobas estudio sala con chimenea comedor estud\"| __truncated__ ...\n",
      " $ cleaned_text        : chr  \"cod 2901fr461 multifamiliar garaje local sector cerezo localidad engativo agradable vista exterior contar dos t\"| __truncated__ \"barrio floralia ciudad construido construido 260 terraza 140 completo sala comedor cocinar dormitorio patio rop\"| __truncated__ \"oportunidad salio amplio rentable mejor sector fontib rodeado comercio edificio residencial amplio solo medio c\"| __truncated__ \"villa prado amplio estilo asturiano iluminado tres estudio sala chimeneo comedor estudio servicio cocinar patio\"| __truncated__ ...\n",
      " $ is_test             : num  0 0 0 0 0 0 0 0 0 0 ...\n",
      " $ bathroom_per_bedroom: num  4.33 1.44 2.17 1 0.6 ...\n",
      " $ bathroom_per_room   : num  4.333 1.444 2.167 0.273 0.6 ...\n",
      " $ ratio_covered       : num  1.14 1.08 1.09 1.02 1.45 ...\n",
      " $ bedroom_per_room    : num  1 1 1 0.273 1 ...\n",
      " $ precio_por_mt2      : num  3.21 1.97 2.99 2.77 4.57 ...\n",
      " $ PC1                 : num  0.843 0.437 -0.455 -1.859 -3.519 ...\n",
      " $ PC2                 : num  1.07 5.91 3.63 2.19 1.67 ...\n",
      " $ PC3                 : num  3.8865 0.0503 3.3626 -2.4085 0.1376 ...\n",
      " $ PC4                 : num  2.0516 -3.686 3.2028 -0.2167 0.0585 ...\n",
      " $ PC5                 : num  2.189 1.5 2.866 -0.677 -0.157 ...\n",
      " $ PC6                 : num  0.8303 4.8719 2.0919 -0.0208 -0.0432 ...\n",
      " $ PC7                 : num  -0.0436 1.7997 3.1766 -0.6131 -1.1369 ...\n",
      " $ PC8                 : num  -1.548 -1.667 0.929 1.068 0.317 ...\n",
      " $ PC9                 : num  -1.547 1.347 2.271 -0.966 -0.71 ...\n",
      " $ PC10                : num  1.271 1.983 3.776 1.265 0.241 ...\n",
      " $ PC11                : num  0.601 0.597 -0.967 -0.255 0.248 ...\n",
      " $ PC12                : num  -0.0522 3.9167 0.9536 -0.411 2.8996 ...\n",
      " $ PC13                : num  -0.43 -1.461 0.958 -0.378 -0.293 ...\n",
      " $ PC14                : num  0.952 -0.788 -2.758 -0.489 -1.438 ...\n",
      " $ PC15                : num  -2.083 1.501 0.189 0.527 0.811 ...\n",
      " $ PC16                : num  -0.274 -6.023 -1.328 -0.451 -0.43 ...\n",
      " $ PC17                : num  -3.186 -2.986 -5.955 -0.61 0.136 ...\n",
      " $ PC18                : num  -2.829 -0.613 -2.048 1.054 1.698 ...\n",
      " $ PC19                : num  -0.546 2.42 1.305 1.148 1.358 ...\n",
      " $ PC20                : num  -0.631 -0.232 -1.1 -1.456 -1.18 ...\n",
      " $ PC21                : num  -1.7947 1.1934 -4.0944 0.0835 -1.8507 ...\n",
      " $ PC22                : num  1.762 2.215 -1.251 -0.763 -1.64 ...\n",
      " $ PC23                : num  0.113 0.513 1.354 -0.653 -3.319 ...\n",
      " $ PC24                : num  -1.314 -0.853 0.767 -0.943 1.375 ...\n",
      " $ PC25                : num  -0.14 0.927 -0.646 -1.572 -0.177 ...\n",
      " $ PC26                : num  0.122 -2.406 -2.02 -1.101 0.248 ...\n",
      " $ PC27                : num  0.4517 0.1044 1.5061 0.0819 0.1443 ...\n",
      " $ PC28                : num  -0.0657 -0.6979 0.6493 -0.8132 -1.7505 ...\n",
      " $ PC29                : num  -2.0145 -0.7151 -1.2501 -0.8136 0.0317 ...\n",
      " $ PC30                : num  1.288 1.961 2.119 0.555 1.776 ...\n"
     ]
    },
    {
     "data": {
      "text/plain": [
       "    Min.  1st Qu.   Median     Mean  3rd Qu.     Max. \n",
       "-6.18811 -2.06546 -0.07245  0.00000  1.95247 20.05847 "
      ]
     },
     "metadata": {},
     "output_type": "display_data"
    },
    {
     "name": "stdout",
     "output_type": "stream",
     "text": [
      "'data.frame':\t45691 obs. of  48 variables:\n",
      " $ property_id         : chr  \"4fa04a187235d7509a43a8cf\" \"f9cfbb306af543a759c1f3f2\" \"957a84e8e93ae2b33bc6f61b\" \"eb32d75b32bc5e8677207fc7\" ...\n",
      " $ price               : num  5.8e+08 6.0e+08 4.0e+08 8.0e+08 4.8e+08 8.0e+08 9.5e+08 5.6e+08 4.5e+08 7.2e+08 ...\n",
      " $ city                : chr  \"Bogotá D.C\" \"Bogotá D.C\" \"Bogotá D.C\" \"Bogotá D.C\" ...\n",
      " $ month               : Factor w/ 12 levels \"1\",\"2\",\"3\",\"4\",..: 10 10 10 10 10 10 10 10 10 10 ...\n",
      " $ year                : Factor w/ 3 levels \"2019\",\"2020\",..: 2 2 2 2 2 2 2 2 2 2 ...\n",
      " $ property_type       : Factor w/ 2 levels \"Apartamento\",..: 2 2 2 2 2 2 2 2 2 2 ...\n",
      " $ operation_type      : chr  \"Venta\" \"Venta\" \"Venta\" \"Venta\" ...\n",
      " $ lat                 : num  4.71 4.61 4.59 4.68 4.76 ...\n",
      " $ lon                 : num  -74.1 -74.1 -74.1 -74.1 -74.1 ...\n",
      " $ title               : chr  \"de casa en los cerezos\" \"casa en floralia bogota\" \"de casa en el barrio fatima\" \"casa fontibon a media cuadra de avda ferrocarril\" ...\n",
      " $ description         : chr  \"cod 2901fr461 de casa multifamiliar 4 pisos garaje y local ubicado sector de los cerezos localidad de engativa \"| __truncated__ \"casa en o en el barrio floralia en la ciudad de bogota consta de pisos construidos 2 area construida 260 mts te\"| __truncated__ \"de casa de 7 mt2 de frente por 20 mt2 de fondo consta de primer piso local apartamento con 4 habitaciones bano \"| __truncated__ \"oportunidad salio a la una amplia casa rentable en uno de los mejores sectores de fontibon en bogota rodeada de\"| __truncated__ ...\n",
      " $ cleaned_text        : chr  \"cod 2901fr461 multifamiliar garaje local sector cerezo localidad engativo agradable vista exterior contar dos t\"| __truncated__ \"barrio floralia ciudad construido construido 260 terraza 140 completo sala comedor cocinar dormitorio patio rop\"| __truncated__ \"mt2 frente mt2 fondo primero local cocinar zona lavado segundo tres sala comedor cocinar tercero terraza opcion\"| __truncated__ \"oportunidad salio amplio rentable mejor sector fontib rodeado comercio edificio residencial amplio solo medio c\"| __truncated__ ...\n",
      " $ is_test             : num  0 0 0 0 0 0 0 0 0 0 ...\n",
      " $ bathroom_per_bedroom: num  4.33 1.44 1.62 2.17 1 ...\n",
      " $ bathroom_per_room   : num  4.333 1.444 1.625 2.167 0.273 ...\n",
      " $ ratio_covered       : num  0.908 0.908 0.908 0.908 0.908 ...\n",
      " $ bedroom_per_room    : num  1 1 1 1 0.273 ...\n",
      " $ precio_por_mt2      : num  4.87 5.04 3.36 6.72 4.03 ...\n",
      " $ PC1                 : num  -1.001 -0.92 2.355 0.161 2.107 ...\n",
      " $ PC2                 : num  -2.24 -5.93 -3.47 -4.25 -1.06 ...\n",
      " $ PC3                 : num  -3.06 1.89 2.27 -1.35 2.75 ...\n",
      " $ PC4                 : num  -1.86 3.29 1.892 -2.767 0.379 ...\n",
      " $ PC5                 : num  -2.481 -4.308 -2.942 -3.672 0.347 ...\n",
      " $ PC6                 : num  -0.195 2.364 2.788 -0.591 0.599 ...\n",
      " $ PC7                 : num  0.351 -3.602 -2.719 -1.983 0.348 ...\n",
      " $ PC8                 : num  1.713 1.033 0.339 -2.206 -0.122 ...\n",
      " $ PC9                 : num  0.0949 4.984 -0.0982 -0.6812 0.6598 ...\n",
      " $ PC10                : num  0.112 -2.406 -1.88 -3.85 0.262 ...\n",
      " $ PC11                : num  1.09 -2.18 1.8 2.68 1.12 ...\n",
      " $ PC12                : num  -1.609 2.86 -0.345 -1.177 -0.356 ...\n",
      " $ PC13                : num  -0.598 -3.879 -0.399 0.817 -0.431 ...\n",
      " $ PC14                : num  -0.0337 -2.2219 -0.5025 -2.5107 -0.2921 ...\n",
      " $ PC15                : num  1.586 -2.194 1.224 -2.209 -0.557 ...\n",
      " $ PC16                : num  1.0872 2.7768 -0.6158 0.679 -0.0994 ...\n",
      " $ PC17                : num  -2.29 -2.863 0.872 -5.586 -1.292 ...\n",
      " $ PC18                : num  2.507 -1.566 0.239 -1.457 -1.451 ...\n",
      " $ PC19                : num  2.9665 1.0193 0.0292 3.9962 -0.5586 ...\n",
      " $ PC20                : num  -0.3552 -2.1827 0.0658 0.6383 0.3559 ...\n",
      " $ PC21                : num  1.0939 0.9347 0.0379 0.9411 0.9001 ...\n",
      " $ PC22                : num  2.502 -0.572 0.894 3.442 -0.743 ...\n",
      " $ PC23                : num  -0.112 -0.356 -1.24 1.275 -0.185 ...\n",
      " $ PC24                : num  -1.6 -0.484 0.502 -0.471 -1.519 ...\n",
      " $ PC25                : num  -0.6845 -1.227 -0.141 -0.8829 -0.0924 ...\n",
      " $ PC26                : num  0.642 -1.543 1.164 -2.086 -0.84 ...\n",
      " $ PC27                : num  -0.2349 -0.0692 -1.0641 1.4148 0.4797 ...\n",
      " $ PC28                : num  0.672 -0.179 0.676 0.705 -0.81 ...\n",
      " $ PC29                : num  0.5958 1.4928 0.5351 0.0491 0.0463 ...\n",
      " $ PC30                : num  -1.462 -0.952 -1.434 -1.723 0.375 ...\n"
     ]
    },
    {
     "data": {
      "text/plain": [
       "     Min.   1st Qu.    Median      Mean   3rd Qu.      Max. \n",
       "-20.57012  -1.89741   0.06034   0.00000   1.99650   6.05954 "
      ]
     },
     "metadata": {},
     "output_type": "display_data"
    }
   ],
   "source": [
    "pcs_30_reg <- as.data.frame(modelo_pca_reg$x[, 1:30])\n",
    "colnames(pcs_30_reg) <- paste0(\"PC\", 1:30)\n",
    "\n",
    "data_pca_30_reg <- cbind(data_reg_med_clean[, columnas_excluir], pcs_30_reg)\n",
    "\n",
    "str(data_pca_30_reg)\n",
    "summary(data_pca_30_reg$PC1)\n",
    "\n",
    "pcs_30_med <- as.data.frame(modelo_pca_med$x[, 1:30])\n",
    "colnames(pcs_30_med) <- paste0(\"PC\", 1:30)\n",
    "\n",
    "data_pca_30_med <- cbind(data_med_med_clean[, columnas_excluir], pcs_30_med)\n",
    "\n",
    "str(data_pca_30_med)\n",
    "summary(data_pca_30_med$PC1)\n"
   ]
  },
  {
   "cell_type": "code",
   "execution_count": 51,
   "id": "6cdbf071",
   "metadata": {
    "vscode": {
     "languageId": "r"
    }
   },
   "outputs": [],
   "source": [
    "numeros_palabras <- c(\n",
    "  \"un\" = 1, \"uno\" = 1, \"primer\" = 1, \"primero\" = 1, \"1er\" = 1,\n",
    "  \"dos\" = 2, \"segundo\" = 2, \"2do\" = 2,\n",
    "  \"tres\" = 3, \"tercero\" = 3, \"3ro\" = 3,\n",
    "  \"cuatro\" = 4, \"cuarto\" = 4, \"4to\" = 4,\n",
    "  \"cinco\" = 5, \"quinto\" = 5, \"5to\" = 5,\n",
    "  \"seis\" = 6, \"sexto\" = 6, \"6to\" = 6,\n",
    "  \"siete\" = 7, \"septimo\" = 7, \"7mo\" = 7,\n",
    "  \"ocho\" = 8, \"octavo\" = 8, \"8vo\" = 8,\n",
    "  \"nueve\" = 9, \"noveno\" = 9, \"9no\" = 9,\n",
    "  \"diez\" = 10, \"decimo\" = 10, \"10mo\" = 10,\n",
    "  \"once\" = 11, \"undecimo\" = 11, \"11mo\" = 11,\n",
    "  \"doce\" = 12, \"duodecimo\" = 12, \"12mo\" = 12,\n",
    "  \"trece\" = 13, \"13mo\" = 13,\n",
    "  \"catorce\" = 14, \"14mo\" = 14,\n",
    "  \"quince\" = 15, \"15mo\" = 15,\n",
    "  \"dieciseis\" = 16, \"16mo\" = 16,\n",
    "  \"diecisiete\" = 17, \"17mo\" = 17,\n",
    "  \"dieciocho\" = 18, \"18mo\" = 18,\n",
    "  \"diecinueve\" = 19, \"19mo\" = 19,\n",
    "  \"veinte\" = 20, \"20mo\" = 20,\n",
    "  \"veintiuno\" = 21, \"21mo\" = 21,\n",
    "  \"veintidos\" = 22, \"22mo\" = 22,\n",
    "  \"veintitres\" = 23, \"23mo\" = 23,\n",
    "  \"veinticuatro\" = 24, \"24mo\" = 24,\n",
    "  \"veinticinco\" = 25, \"25mo\" = 25,\n",
    "  \"veintiseis\" = 26, \"26mo\" = 26,\n",
    "  \"veintisiete\" = 27, \"27mo\" = 27,\n",
    "  \"veintiocho\" = 28, \"28mo\" = 28,\n",
    "  \"veintinueve\" = 29, \"29mo\" = 29,\n",
    "  \"treinta\" = 30, \"30mo\" = 30\n",
    ")\n",
    "\n",
    "\n",
    "palabras_habitaciones <- c(\"habitacion\", \"cuarto\", \"alcoba\", \"dormitorio\")\n",
    "palabras_banos <- c(\"baño\", \"aseo\", \"bano\", \"bao\")\n",
    "palabras_pisos <- c(\"piso\", \"nivel\", \"planta\")\n",
    "palabras_area <- c(\"metro\", \"m2\", \"mt2\")  # ESTA es la que te falta\n",
    "palabras_parqueadero <- c(\"garaje\", \"parqueadero\", \"parqueo\", \"estacionamiento\")\n",
    "palabras_ano <- c(\"ano\", \"años\", \"anios\", \"antiguedad\")"
   ]
  },
  {
   "cell_type": "code",
   "execution_count": 52,
   "id": "b4e460ff",
   "metadata": {
    "vscode": {
     "languageId": "r"
    }
   },
   "outputs": [],
   "source": [
    "convertir_numeros <- function(texto) {\n",
    "  for (palabra in names(numeros_palabras)) {\n",
    "    texto <- gsub(paste0(\"\\\\b\", palabra, \"\\\\b\"), numeros_palabras[palabra], texto)\n",
    "  }\n",
    "  return(texto)\n",
    "}"
   ]
  },
  {
   "cell_type": "code",
   "execution_count": 53,
   "id": "38071a74",
   "metadata": {
    "vscode": {
     "languageId": "r"
    }
   },
   "outputs": [],
   "source": [
    "extraer_variable <- function(texto, palabras_clave) {\n",
    "  patron1 <- paste0(\"(\\\\d+)\\\\s*(?:\", paste(palabras_clave, collapse = \"|\"), \")\")\n",
    "  patron2 <- paste0(\"(?:\", paste(palabras_clave, collapse = \"|\"), \")\\\\s*(\\\\d+)\")\n",
    "  \n",
    "  match1 <- regexpr(patron1, texto, perl = TRUE)\n",
    "  match2 <- regexpr(patron2, texto, perl = TRUE)\n",
    "  \n",
    "  if (match1[1] != -1) {\n",
    "    m <- regmatches(texto, match1)\n",
    "    return(as.numeric(gsub(\"(\\\\d+).*\", \"\\\\1\", m)))\n",
    "  } else if (match2[1] != -1) {\n",
    "    m <- regmatches(texto, match2)\n",
    "    return(as.numeric(gsub(\".*?(\\\\d+)\", \"\\\\1\", m)))\n",
    "  } else {\n",
    "    return(NA)\n",
    "  }\n",
    "}"
   ]
  },
  {
   "cell_type": "code",
   "execution_count": 54,
   "id": "059ae4d5",
   "metadata": {
    "vscode": {
     "languageId": "r"
    }
   },
   "outputs": [],
   "source": [
    "procesar_descripcion <- function(texto) {\n",
    "  if (is.na(texto)) return(rep(NA, 6))\n",
    "  \n",
    "  texto <- tolower(texto)\n",
    "  texto <- gsub(\"[áÁ]\", \"a\", texto)\n",
    "  texto <- gsub(\"[éÉ]\", \"e\", texto)\n",
    "  texto <- gsub(\"[íÍ]\", \"i\", texto)\n",
    "  texto <- gsub(\"[óÓ]\", \"o\", texto)\n",
    "  texto <- gsub(\"[úÚ]\", \"u\", texto)\n",
    "  texto <- gsub(\"ñ\", \"n\", texto)\n",
    "  \n",
    "  texto <- convertir_numeros(texto)\n",
    "  \n",
    "  num_pisos <- extraer_variable(texto, palabras_pisos)\n",
    "  num_habitaciones <- extraer_variable(texto, palabras_habitaciones)\n",
    "  num_banos <- extraer_variable(texto, palabras_banos)\n",
    "  area_m2 <- extraer_variable(texto, palabras_area)\n",
    "  num_parqueaderos <- extraer_variable(texto, palabras_parqueadero)\n",
    "  ano_construccion <- extraer_variable(texto, palabras_ano)\n",
    "  \n",
    "  return(as.numeric(c(num_pisos, num_habitaciones, num_banos, area_m2, num_parqueaderos, ano_construccion)))\n",
    "}"
   ]
  },
  {
   "cell_type": "code",
   "execution_count": 55,
   "id": "8ce4c1f6",
   "metadata": {
    "vscode": {
     "languageId": "r"
    }
   },
   "outputs": [],
   "source": [
    "vars_extraidas_reg <- t(sapply(data_reg_med_clean$cleaned_text, procesar_descripcion))\n",
    "colnames(vars_extraidas_reg) <- c(\"num_pisos\", \"num_habitaciones\", \"num_banos\", \"area_m2\", \"num_parqueaderos\", \"ano_construccion\")\n",
    "\n",
    "vars_extraidas_med <- t(sapply(data_med_med_clean$cleaned_text, procesar_descripcion))\n",
    "colnames(vars_extraidas_med) <- c(\"num_pisos\", \"num_habitaciones\", \"num_banos\", \"area_m2\", \"num_parqueaderos\", \"ano_construccion\")"
   ]
  },
  {
   "cell_type": "code",
   "execution_count": 56,
   "id": "f7c58610",
   "metadata": {
    "vscode": {
     "languageId": "r"
    }
   },
   "outputs": [],
   "source": [
    "data_reg_med_clean <- cbind(data_reg_med_clean, vars_extraidas_reg)\n",
    "\n",
    "data_med_med_clean <- cbind(data_med_med_clean, vars_extraidas_med)"
   ]
  },
  {
   "cell_type": "code",
   "execution_count": 57,
   "id": "777f820d",
   "metadata": {
    "vscode": {
     "languageId": "r"
    }
   },
   "outputs": [
    {
     "data": {
      "text/html": [
       "<style>\n",
       ".dl-inline {width: auto; margin:0; padding: 0}\n",
       ".dl-inline>dt, .dl-inline>dd {float: none; width: auto; display: inline-block}\n",
       ".dl-inline>dt::after {content: \":\\0020\"; padding-right: .5ex}\n",
       ".dl-inline>dt:not(:first-of-type) {padding-left: .5ex}\n",
       "</style><dl class=dl-inline><dt>num_pisos</dt><dd>41695</dd><dt>num_habitaciones</dt><dd>43706</dd><dt>num_banos</dt><dd>45618</dd><dt>area_m2</dt><dd>42533</dd><dt>num_parqueaderos</dt><dd>35195</dd><dt>ano_construccion</dt><dd>44649</dd></dl>\n"
      ],
      "text/latex": [
       "\\begin{description*}\n",
       "\\item[num\\textbackslash{}\\_pisos] 41695\n",
       "\\item[num\\textbackslash{}\\_habitaciones] 43706\n",
       "\\item[num\\textbackslash{}\\_banos] 45618\n",
       "\\item[area\\textbackslash{}\\_m2] 42533\n",
       "\\item[num\\textbackslash{}\\_parqueaderos] 35195\n",
       "\\item[ano\\textbackslash{}\\_construccion] 44649\n",
       "\\end{description*}\n"
      ],
      "text/markdown": [
       "num_pisos\n",
       ":   41695num_habitaciones\n",
       ":   43706num_banos\n",
       ":   45618area_m2\n",
       ":   42533num_parqueaderos\n",
       ":   35195ano_construccion\n",
       ":   44649\n",
       "\n"
      ],
      "text/plain": [
       "       num_pisos num_habitaciones        num_banos          area_m2 \n",
       "           41695            43706            45618            42533 \n",
       "num_parqueaderos ano_construccion \n",
       "           35195            44649 "
      ]
     },
     "metadata": {},
     "output_type": "display_data"
    },
    {
     "data": {
      "text/html": [
       "<style>\n",
       ".dl-inline {width: auto; margin:0; padding: 0}\n",
       ".dl-inline>dt, .dl-inline>dd {float: none; width: auto; display: inline-block}\n",
       ".dl-inline>dt::after {content: \":\\0020\"; padding-right: .5ex}\n",
       ".dl-inline>dt:not(:first-of-type) {padding-left: .5ex}\n",
       "</style><dl class=dl-inline><dt>num_pisos</dt><dd>43069</dd><dt>num_habitaciones</dt><dd>45354</dd><dt>num_banos</dt><dd>47395</dd><dt>area_m2</dt><dd>44143</dd><dt>num_parqueaderos</dt><dd>36392</dd><dt>ano_construccion</dt><dd>46361</dd></dl>\n"
      ],
      "text/latex": [
       "\\begin{description*}\n",
       "\\item[num\\textbackslash{}\\_pisos] 43069\n",
       "\\item[num\\textbackslash{}\\_habitaciones] 45354\n",
       "\\item[num\\textbackslash{}\\_banos] 47395\n",
       "\\item[area\\textbackslash{}\\_m2] 44143\n",
       "\\item[num\\textbackslash{}\\_parqueaderos] 36392\n",
       "\\item[ano\\textbackslash{}\\_construccion] 46361\n",
       "\\end{description*}\n"
      ],
      "text/markdown": [
       "num_pisos\n",
       ":   43069num_habitaciones\n",
       ":   45354num_banos\n",
       ":   47395area_m2\n",
       ":   44143num_parqueaderos\n",
       ":   36392ano_construccion\n",
       ":   46361\n",
       "\n"
      ],
      "text/plain": [
       "       num_pisos num_habitaciones        num_banos          area_m2 \n",
       "           43069            45354            47395            44143 \n",
       "num_parqueaderos ano_construccion \n",
       "           36392            46361 "
      ]
     },
     "metadata": {},
     "output_type": "display_data"
    }
   ],
   "source": [
    "colSums(is.na(data_med_med_clean[, c(\"num_pisos\", \"num_habitaciones\", \"num_banos\", \"area_m2\", \"num_parqueaderos\", \"ano_construccion\")]))\n",
    "\n",
    "colSums(is.na(data_reg_med_clean[, c(\"num_pisos\", \"num_habitaciones\", \"num_banos\", \"area_m2\", \"num_parqueaderos\", \"ano_construccion\")]))"
   ]
  },
  {
   "cell_type": "code",
   "execution_count": 58,
   "id": "50efb006",
   "metadata": {
    "vscode": {
     "languageId": "r"
    }
   },
   "outputs": [
    {
     "data": {
      "text/html": [
       "TRUE"
      ],
      "text/latex": [
       "TRUE"
      ],
      "text/markdown": [
       "TRUE"
      ],
      "text/plain": [
       "[1] TRUE"
      ]
     },
     "metadata": {},
     "output_type": "display_data"
    },
    {
     "data": {
      "text/html": [
       "TRUE"
      ],
      "text/latex": [
       "TRUE"
      ],
      "text/markdown": [
       "TRUE"
      ],
      "text/plain": [
       "[1] TRUE"
      ]
     },
     "metadata": {},
     "output_type": "display_data"
    },
    {
     "data": {
      "text/html": [
       "TRUE"
      ],
      "text/latex": [
       "TRUE"
      ],
      "text/markdown": [
       "TRUE"
      ],
      "text/plain": [
       "[1] TRUE"
      ]
     },
     "metadata": {},
     "output_type": "display_data"
    },
    {
     "data": {
      "text/html": [
       "TRUE"
      ],
      "text/latex": [
       "TRUE"
      ],
      "text/markdown": [
       "TRUE"
      ],
      "text/plain": [
       "[1] TRUE"
      ]
     },
     "metadata": {},
     "output_type": "display_data"
    }
   ],
   "source": [
    "\"property_id\" %in% names(data_reg_med_pca)\n",
    "\"property_id\" %in% names(data_reg_med_clean)\n",
    "\n",
    "\"property_id\" %in% names(data_med_med_pca)\n",
    "\"property_id\" %in% names(data_med_med_clean)"
   ]
  },
  {
   "cell_type": "code",
   "execution_count": 59,
   "id": "9eb2f5a8",
   "metadata": {
    "vscode": {
     "languageId": "r"
    }
   },
   "outputs": [],
   "source": [
    "vars_texto_reg <- data_reg_med_clean[, c(\"property_id\", \"num_pisos\", \"num_habitaciones\",\n",
    "                                 \"num_banos\", \"area_m2\", \"num_parqueaderos\", \"ano_construccion\")]\n",
    "\n",
    "vars_texto_med <- data_med_med_clean[, c(\"property_id\", \"num_pisos\", \"num_habitaciones\",\n",
    "                                 \"num_banos\", \"area_m2\", \"num_parqueaderos\", \"ano_construccion\")]"
   ]
  },
  {
   "cell_type": "code",
   "execution_count": 60,
   "id": "f4169cdb",
   "metadata": {
    "vscode": {
     "languageId": "r"
    }
   },
   "outputs": [],
   "source": [
    "data_texto_completa_reg <- data_pca_30_reg %>%\n",
    "  left_join(vars_texto_reg, by = \"property_id\")\n",
    "\n",
    "data_texto_completa_med <- data_pca_30_med %>%\n",
    "  left_join(vars_texto_med, by = \"property_id\")"
   ]
  },
  {
   "cell_type": "code",
   "execution_count": 61,
   "id": "4ebe74d2",
   "metadata": {
    "vscode": {
     "languageId": "r"
    }
   },
   "outputs": [],
   "source": [
    "data_texto_train_reg <- data_texto_completa_reg %>% filter(is_test == 0)\n",
    "data_texto_test_reg <- data_texto_completa_reg %>% filter(is_test == 1)\n",
    "\n",
    "data_texto_train_med <- data_texto_completa_med %>% filter(is_test == 0)\n",
    "data_texto_test_med <- data_texto_completa_med %>% filter(is_test == 1)"
   ]
  },
  {
   "cell_type": "code",
   "execution_count": null,
   "id": "42c07ad6",
   "metadata": {
    "vscode": {
     "languageId": "r"
    }
   },
   "outputs": [],
   "source": [
    "saveRDS(data_texto_train_reg, file =  \"stores\\\\provisionales\\\\data_texto_train_reg.rds\")\n",
    "saveRDS(data_texto_test_reg,  file = \"stores\\\\provisionales\\\\data_texto_test_reg.rds\")\n",
    "\n",
    "saveRDS(data_texto_train_med, file =  \"stores\\\\provisionales\\\\data_texto_train_med.rds\")\n",
    "saveRDS(data_texto_test_med,  file = \"stores\\\\provisionales\\\\data_texto_test_med.rds\")"
   ]
  }
 ],
 "metadata": {
  "kernelspec": {
   "display_name": "R",
   "language": "R",
   "name": "ir"
  },
  "language_info": {
   "codemirror_mode": "r",
   "file_extension": ".r",
   "mimetype": "text/x-r-source",
   "name": "R",
   "pygments_lexer": "r",
   "version": "4.4.2"
  }
 },
 "nbformat": 4,
 "nbformat_minor": 5
}
